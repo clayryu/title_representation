{
 "cells": [
  {
   "cell_type": "code",
   "execution_count": 4,
   "metadata": {},
   "outputs": [
    {
     "data": {
      "text/plain": [
       "torch.Size([64, 10, 10])"
      ]
     },
     "execution_count": 4,
     "metadata": {},
     "output_type": "execute_result"
    }
   ],
   "source": [
    "import torch.nn as nn\n",
    "import torch\n",
    "\n",
    "# target output size of 5x7\n",
    "m = nn.AdaptiveMaxPool2d((10,10))\n",
    "input = torch.randn(64, 8, 9)\n",
    "output = m(input)\n",
    "output.shape"
   ]
  },
  {
   "cell_type": "code",
   "execution_count": 5,
   "metadata": {},
   "outputs": [
    {
     "name": "stdout",
     "output_type": "stream",
     "text": [
      "torch.Size([512, 512, 512])\n"
     ]
    }
   ],
   "source": [
    "import torch\n",
    "import torch.nn as nn\n",
    "\n",
    "# Create input tensor\n",
    "input_tensor = torch.randn(512, 1024, 555)\n",
    "\n",
    "# Define output size\n",
    "output_size = (512, 512)\n",
    "\n",
    "# Pass input tensor through AdaptiveAvgPool2d\n",
    "output_tensor = nn.AdaptiveAvgPool2d(output_size)(input_tensor)\n",
    "\n",
    "# Print output size\n",
    "print(output_tensor.shape)"
   ]
  },
  {
   "cell_type": "code",
   "execution_count": 5,
   "metadata": {},
   "outputs": [
    {
     "name": "stdout",
     "output_type": "stream",
     "text": [
      "tensor([[ 0.0000,  0.0000,  0.0000,  0.0000,  0.0000],\n",
      "        [-0.3731,  0.3512, -2.9364, -0.1281,  0.4971],\n",
      "        [ 0.6286,  0.2063,  1.6442, -1.0246, -1.5172],\n",
      "        [ 0.4563, -0.5586,  0.8302,  0.8978,  0.1929],\n",
      "        [ 0.0000,  0.0000,  0.0000,  0.0000,  0.0000]])\n"
     ]
    }
   ],
   "source": [
    "import torch\n",
    "import torch.nn as nn\n",
    "import torch.nn.utils.rnn as rnn\n",
    "import torch.nn.functional as F\n",
    "\n",
    "# Create a packed sequence\n",
    "data = torch.randn(5, 3)\n",
    "#lengths = [3, 2, 3]\n",
    "packed_sequence = rnn.pack_sequence(data, enforce_sorted=False)\n",
    "\n",
    "# Unpack the packed sequence\n",
    "unpacked_sequence, _ = rnn.pad_packed_sequence(packed_sequence)\n",
    "\n",
    "# Add zeros to the start and end of the sequences\n",
    "pad_size = (0, 0, 1, 1)\n",
    "padded_sequence = F.pad(unpacked_sequence, pad_size)\n",
    "\n",
    "# Print the padded sequence\n",
    "print(padded_sequence)"
   ]
  },
  {
   "cell_type": "code",
   "execution_count": 11,
   "metadata": {},
   "outputs": [
    {
     "data": {
      "text/plain": [
       "(tensor([[-0.3731,  0.3512, -2.9364, -0.1281,  0.4971],\n",
       "         [ 0.6286,  0.2063,  1.6442, -1.0246, -1.5172],\n",
       "         [ 0.4563, -0.5586,  0.8302,  0.8978,  0.1929]]),\n",
       " tensor([[-0.3731,  0.6286,  0.4563],\n",
       "         [ 0.3512,  0.2063, -0.5586],\n",
       "         [-2.9364,  1.6442,  0.8302],\n",
       "         [-0.1281, -1.0246,  0.8978],\n",
       "         [ 0.4971, -1.5172,  0.1929]]),\n",
       " PackedSequence(data=tensor([-0.3731,  0.3512, -2.9364, -0.1281,  0.4971,  0.6286,  0.2063,  1.6442,\n",
       "         -1.0246, -1.5172,  0.4563, -0.5586,  0.8302,  0.8978,  0.1929]), batch_sizes=tensor([5, 5, 5]), sorted_indices=tensor([0, 1, 2, 3, 4]), unsorted_indices=tensor([0, 1, 2, 3, 4])))"
      ]
     },
     "execution_count": 11,
     "metadata": {},
     "output_type": "execute_result"
    }
   ],
   "source": [
    "unpacked_sequence, data, packed_sequence"
   ]
  },
  {
   "cell_type": "code",
   "execution_count": 14,
   "metadata": {},
   "outputs": [
    {
     "name": "stdout",
     "output_type": "stream",
     "text": [
      "torch.Size([49, 20])\n"
     ]
    }
   ],
   "source": [
    "import torch\n",
    "\n",
    "# Define the fixed size you want your tensor to be\n",
    "fixed_size = (50, 20)\n",
    "\n",
    "# Define your input tensor\n",
    "input_tensor = torch.randn(35, 20)\n",
    "\n",
    "# Calculate the amount of padding to add to the tensor\n",
    "padding = (fixed_size[1]-input_tensor.size()[1], fixed_size[1]-input_tensor.size()[1],\n",
    "            (fixed_size[0]-input_tensor.size()[0])//2, (fixed_size[0]-input_tensor.size()[0])//2)\n",
    "\n",
    "# Apply the padding\n",
    "padded_tensor = torch.nn.functional.pad(input_tensor, padding)\n",
    "\n",
    "# Check the size of the padded tensor\n",
    "print(padded_tensor.size()) # torch.Size([50, 20])\n"
   ]
  },
  {
   "cell_type": "code",
   "execution_count": 5,
   "metadata": {},
   "outputs": [
    {
     "data": {
      "text/plain": [
       "(0, 10)"
      ]
     },
     "execution_count": 5,
     "metadata": {},
     "output_type": "execute_result"
    }
   ],
   "source": [
    "padding"
   ]
  },
  {
   "cell_type": "code",
   "execution_count": 17,
   "metadata": {},
   "outputs": [
    {
     "name": "stdout",
     "output_type": "stream",
     "text": [
      "torch.Size([40, 25])\n"
     ]
    }
   ],
   "source": [
    "import torch\n",
    "\n",
    "# Define the fixed size you want your tensor to be\n",
    "fixed_size = (50, 20)\n",
    "\n",
    "# Define your input tensor\n",
    "input_tensor = torch.randn(40, 20)\n",
    "\n",
    "# Calculate the amount of padding to add to the tensor\n",
    "padding = ( (fixed_size[1]-input_tensor.size()[1])//2, (fixed_size[0]-input_tensor.size()[0])//2)\n",
    "\n",
    "# Define the padding module\n",
    "pad = torch.nn.ConstantPad2d(padding, 0)\n",
    "\n",
    "# Pass your input tensor to the padding module\n",
    "padded_tensor = pad(input_tensor)\n",
    "\n",
    "# Check the size of the padded tensor\n",
    "print(padded_tensor.size()) # torch.Size([50, 20])\n"
   ]
  },
  {
   "cell_type": "code",
   "execution_count": 49,
   "metadata": {},
   "outputs": [
    {
     "data": {
      "text/plain": [
       "torch.Size([10, 2])"
      ]
     },
     "execution_count": 49,
     "metadata": {},
     "output_type": "execute_result"
    }
   ],
   "source": [
    "import torch\n",
    "from torch import nn\n",
    "import math\n",
    "\n",
    "target_pad = (10,2)\n",
    "x = torch.ones(5,2)\n",
    "\n",
    "num = target_pad[0] - x.size()[0]\n",
    "RU_num = math.ceil(num/2)\n",
    "RD_num = math.floor(num/2)\n",
    "\n",
    "padded = nn.ConstantPad1d((RD_num, RU_num), 0)(x.T)\n",
    "padded.T.shape"
   ]
  },
  {
   "cell_type": "code",
   "execution_count": 48,
   "metadata": {},
   "outputs": [
    {
     "data": {
      "text/plain": [
       "(5, 3, 2)"
      ]
     },
     "execution_count": 48,
     "metadata": {},
     "output_type": "execute_result"
    }
   ],
   "source": [
    "num, RU_num, RD_num"
   ]
  },
  {
   "cell_type": "code",
   "execution_count": 50,
   "metadata": {},
   "outputs": [
    {
     "data": {
      "text/plain": [
       "tensor([[0., 0.],\n",
       "        [0., 0.],\n",
       "        [1., 1.],\n",
       "        [1., 1.],\n",
       "        [1., 1.],\n",
       "        [1., 1.],\n",
       "        [1., 1.],\n",
       "        [0., 0.],\n",
       "        [0., 0.],\n",
       "        [0., 0.]])"
      ]
     },
     "execution_count": 50,
     "metadata": {},
     "output_type": "execute_result"
    }
   ],
   "source": [
    "padded.T"
   ]
  },
  {
   "cell_type": "code",
   "execution_count": null,
   "metadata": {},
   "outputs": [],
   "source": []
  }
 ],
 "metadata": {
  "kernelspec": {
   "display_name": "Python 3",
   "language": "python",
   "name": "python3"
  },
  "language_info": {
   "codemirror_mode": {
    "name": "ipython",
    "version": 3
   },
   "file_extension": ".py",
   "mimetype": "text/x-python",
   "name": "python",
   "nbconvert_exporter": "python",
   "pygments_lexer": "ipython3",
   "version": "3.8.10 (default, Jun 22 2022, 20:18:18) \n[GCC 9.4.0]"
  },
  "orig_nbformat": 4,
  "vscode": {
   "interpreter": {
    "hash": "916dbcbb3f70747c44a77c7bcd40155683ae19c65e1c03b4aa3499c5328201f1"
   }
  }
 },
 "nbformat": 4,
 "nbformat_minor": 2
}
