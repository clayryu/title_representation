{
 "cells": [
  {
   "cell_type": "code",
   "execution_count": 1,
   "metadata": {},
   "outputs": [
    {
     "name": "stdout",
     "output_type": "stream",
     "text": [
      "/home/clay/userdata/title_generation\n"
     ]
    }
   ],
   "source": [
    "%cd ..\n",
    "%load_ext autoreload\n",
    "%autoreload 2"
   ]
  },
  {
   "cell_type": "code",
   "execution_count": 2,
   "metadata": {},
   "outputs": [],
   "source": [
    "import torch\n",
    "import shutil\n",
    "from pathlib import Path\n",
    "from tqdm.auto import tqdm\n",
    "from torch.utils.data import DataLoader\n",
    "from data_utils import ABCset, MeasureNumberSet, pack_collate, PitchDurSplitSet, FolkRNNSet, MeasureOffsetSet, read_yaml, MeasureEndSet, get_emb_total_size\n",
    "from emb_trainer import EmbTrainer, EmbTrainerMeasure, EmbTrainerMeasureMRR\n",
    "from emb_loss import get_batch_contrastive_loss, get_batch_euclidean_loss, clip_crossentropy_loss\n",
    "from emb_utils import pack_collate_title_sampling_train, pack_collate_title_sampling_valid\n",
    "from torch.nn import CosineEmbeddingLoss\n",
    "import torch.nn.functional as F\n",
    "\n",
    "import data_utils\n",
    "import model_zoo\n",
    "import emb_model\n",
    "import emb_data_utils\n",
    "import vocab_utils\n",
    "\n",
    "import argparse\n",
    "import wandb\n",
    "import datetime"
   ]
  },
  {
   "cell_type": "code",
   "execution_count": 3,
   "metadata": {},
   "outputs": [],
   "source": [
    "path = Path('pre_trained/measure_note_xl/')\n",
    "if path.is_dir():\n",
    "  yaml_path = list(path.glob('*.yaml'))[0]\n",
    "  vocab_path = list(path.glob('*vocab.json'))[0]\n",
    "  checkpoint_list = list(path.glob('*.pt'))\n",
    "  checkpoint_list.sort(key= lambda x: int(x.stem.split('_')[-2].replace('iter', '')))\n",
    "  checkpoint_path = checkpoint_list[-1]\n",
    "  config = data_utils.read_yaml(yaml_path)\n",
    "  data_param = config.data_params\n",
    "  model_name = config.nn_params.model_name\n",
    "  vocab_name = config.nn_params.vocab_name\n",
    "  net_param = config.nn_params\n",
    "  vocab = getattr(vocab_utils, vocab_name)(json_path= vocab_path)\n",
    "  config = data_utils.get_emb_total_size(config, vocab)"
   ]
  },
  {
   "cell_type": "code",
   "execution_count": 4,
   "metadata": {},
   "outputs": [
    {
     "name": "stdout",
     "output_type": "stream",
     "text": [
      "Error in token measure_offset: <Beam \"|\">\n",
      "Error in token measure_offset: <Beam \"|\">\n",
      "Error in token measure_offset: <Beam \"|\">\n",
      "Error in meas_offset_from_repeat_start: <Beam \"|\">\n",
      "Error in token measure_offset: <Beam \"|\">\n",
      "Error in meas_offset_from_repeat_start: <Tie \"-\">\n",
      "Error in token measure_offset: <Beam \"|\">\n",
      "Error in meas_offset_from_repeat_start: <Beam \":|\">\n",
      "Error in meas_offset_from_repeat_start: <Beam \"|:\">\n",
      "Error in meas_offset_from_repeat_start: <Beam \"|:\">\n",
      "Error in meas_offset_from_repeat_start: <Beam \"|:\">\n",
      "Error in token measure_offset: <Beam \"|\">\n"
     ]
    }
   ],
   "source": [
    "score_dir = Path('abc_dataset/folk_rnn_abc_key_cleaned/')\n",
    "dataset_name_ttl = \"ABCsetTitle_22K\"\n",
    "dataset_abc = getattr(emb_data_utils, dataset_name_ttl)(score_dir, vocab_path, make_vocab=False, key_aug=data_param.key_aug, vocab_name=net_param.vocab_name, tune_length=100)\n",
    "dataset_abc.vocab = vocab"
   ]
  },
  {
   "cell_type": "code",
   "execution_count": 5,
   "metadata": {},
   "outputs": [
    {
     "data": {
      "text/plain": [
       "TTLembModel(\n",
       "  (layer): Sequential(\n",
       "    (0): Linear(in_features=384, out_features=256, bias=True)\n",
       "    (1): ReLU()\n",
       "    (2): Dropout(p=0.5, inplace=False)\n",
       "    (3): Linear(in_features=256, out_features=128, bias=True)\n",
       "    (4): ReLU()\n",
       "    (5): Dropout(p=0.5, inplace=False)\n",
       "    (6): Linear(in_features=128, out_features=256, bias=True)\n",
       "  )\n",
       ")"
      ]
     },
     "execution_count": 5,
     "metadata": {},
     "output_type": "execute_result"
    }
   ],
   "source": [
    "model_cnn_reducedemb = getattr(emb_model, 'ABC_cnn_emb_Model')(trans_emb=None, vocab_size=vocab.get_size(), net_param=net_param, emb_size=256, hidden_size=128, emb_ratio=1)\n",
    "model_ttl = getattr(emb_model, 'TTLembModel')(emb_size=256)\n",
    "\n",
    "# load pretrained model\n",
    "model_cnn_reducedemb.load_state_dict(torch.load('/home/clay/userdata/title_generation/saved_models/0130_06_transfer_best/measurenote_0.pt')['model'])\n",
    "model_ttl.load_state_dict(torch.load('/home/clay/userdata/title_generation/saved_models/0130_06_transfer_best/ttlemb_0.pt')['model'])\n",
    "\n",
    "model_cnn_reducedemb\n",
    "model_ttl"
   ]
  },
  {
   "cell_type": "code",
   "execution_count": 6,
   "metadata": {},
   "outputs": [],
   "source": [
    "torch.manual_seed(42)\n",
    "\n",
    "trainset, validset = torch.utils.data.random_split(dataset_abc, [int(len(dataset_abc)*0.9), len(dataset_abc) - int(len(dataset_abc)*0.9)], generator=torch.Generator().manual_seed(42))\n",
    "\n",
    "train_loader = DataLoader(trainset, batch_size=7000, collate_fn=pack_collate_title_sampling_train, shuffle=True) #collate_fn=pack_collate)\n",
    "valid_loader = DataLoader(validset, batch_size=7000, collate_fn=pack_collate_title_sampling_valid, shuffle=False) #collate_fn=pack_collate)\n"
   ]
  },
  {
   "cell_type": "code",
   "execution_count": 7,
   "metadata": {},
   "outputs": [],
   "source": [
    "for batch in train_loader:\n",
    "  melody, title, measure_numbers = batch\n",
    "  train_abc_emb = model_cnn_reducedemb(melody)\n",
    "  train_ttl_emb = model_ttl(title)\n",
    "  "
   ]
  },
  {
   "cell_type": "code",
   "execution_count": 8,
   "metadata": {},
   "outputs": [],
   "source": [
    "for batch in valid_loader:\n",
    "  melody, title, measure_numbers = batch\n",
    "  valid_abc_emb = model_cnn_reducedemb(melody)\n",
    "  valid_ttl_emb = model_ttl(title)"
   ]
  },
  {
   "cell_type": "code",
   "execution_count": 9,
   "metadata": {},
   "outputs": [],
   "source": [
    "train_abc_emb = F.normalize(train_abc_emb, dim=1)\n",
    "train_abc_cosim = torch.matmul(train_abc_emb, train_abc_emb.T)\n",
    "train_ttl_emb = F.normalize(train_ttl_emb, dim=1)\n",
    "train_ttl_cosim = torch.matmul(train_ttl_emb, train_ttl_emb.T)\n",
    "train_cosim = torch.matmul(train_abc_emb, train_ttl_emb.T)"
   ]
  },
  {
   "cell_type": "code",
   "execution_count": 14,
   "metadata": {},
   "outputs": [
    {
     "data": {
      "text/plain": [
       "2828"
      ]
     },
     "execution_count": 14,
     "metadata": {},
     "output_type": "execute_result"
    }
   ],
   "source": [
    "len(train_abc_cosim)//2"
   ]
  },
  {
   "cell_type": "code",
   "execution_count": 11,
   "metadata": {},
   "outputs": [],
   "source": [
    "train_abc_cosim_list = []\n",
    "train_ttl_cosim_list = []\n",
    "train_cosim_list = []\n",
    "\n",
    "for i in range(1, len(train_abc_cosim)//2):\n",
    "  #train_abc_cosim_list.append((sum(train_abc_cosim[i]) -1) / len(train_abc_cosim[i] -1))\n",
    "  #train_ttl_cosim_list.append((sum(train_ttl_cosim[i]) -1) / len(train_ttl_cosim[i] -1))\n",
    "  train_cosim_list.append((sum(train_cosim[i]) -1) / len(train_cosim[i] -1))\n"
   ]
  },
  {
   "cell_type": "code",
   "execution_count": 15,
   "metadata": {},
   "outputs": [],
   "source": [
    "for i in range(len(train_abc_cosim)//2, len(train_abc_cosim)):\n",
    "  #train_abc_cosim_list.append((sum(train_abc_cosim[i]) -1) / len(train_abc_cosim[i] -1))\n",
    "  #train_ttl_cosim_list.append((sum(train_ttl_cosim[i]) -1) / len(train_ttl_cosim[i] -1))\n",
    "  train_cosim_list.append((sum(train_cosim[i]) -1) / len(train_cosim[i] -1))"
   ]
  },
  {
   "cell_type": "code",
   "execution_count": 16,
   "metadata": {},
   "outputs": [],
   "source": [
    "import matplotlib.pyplot as plt\n",
    "import numpy as np\n",
    "\n",
    "# convert tensors to a numpy array\n",
    "train_abc_cosim_arr = np.array([np.array(tensor.cpu().detach()) for tensor in train_abc_cosim_list])\n",
    "train_ttl_cosim_arr = np.array([np.array(tensor.cpu().detach()) for tensor in train_ttl_cosim_list])\n",
    "train_cosim_arr = np.array([np.array(tensor.cpu().detach()) for tensor in train_cosim_list])\n",
    "\n",
    "# flatten the array\n",
    "# arr = train_abc_cosim_arr.flatten()"
   ]
  },
  {
   "cell_type": "code",
   "execution_count": 25,
   "metadata": {},
   "outputs": [
    {
     "data": {
      "image/png": "[encoded data removed]",
      "text/plain": [
       "<Figure size 720x360 with 1 Axes>"
      ]
     },
     "metadata": {
      "needs_background": "light"
     },
     "output_type": "display_data"
    }
   ],
   "source": [
    "# plot the histogram\n",
    "plt.figure(figsize=(10, 5))\n",
    "plt.hist(train_abc_cosim_arr, bins=100, label=\"train_ABC\")\n",
    "plt.legend(fontsize=14)\n",
    "plt.show()"
   ]
  },
  {
   "cell_type": "code",
   "execution_count": 26,
   "metadata": {},
   "outputs": [
    {
     "data": {
      "image/png": "[encoded data removed]",
      "text/plain": [
       "<Figure size 720x360 with 1 Axes>"
      ]
     },
     "metadata": {
      "needs_background": "light"
     },
     "output_type": "display_data"
    }
   ],
   "source": [
    "# plot the histogram\n",
    "plt.figure(figsize=(10, 5))\n",
    "plt.hist(train_ttl_cosim_arr, bins=100, label=\"train_TTL\")\n",
    "plt.legend(fontsize=14)\n",
    "plt.show()"
   ]
  },
  {
   "cell_type": "code",
   "execution_count": 17,
   "metadata": {},
   "outputs": [
    {
     "data": {
      "image/png": "[encoded data removed]",
      "text/plain": [
       "<Figure size 720x360 with 1 Axes>"
      ]
     },
     "metadata": {
      "needs_background": "light"
     },
     "output_type": "display_data"
    }
   ],
   "source": [
    "# plot the histogram\n",
    "plt.figure(figsize=(10, 5))\n",
    "plt.hist(train_cosim_arr, bins=100, label=\"train_dataset\")\n",
    "plt.legend(fontsize=14)\n",
    "plt.show()"
   ]
  },
  {
   "cell_type": "code",
   "execution_count": null,
   "metadata": {},
   "outputs": [],
   "source": []
  }
 ],
 "metadata": {
  "kernelspec": {
   "display_name": "Python 3",
   "language": "python",
   "name": "python3"
  },
  "language_info": {
   "codemirror_mode": {
    "name": "ipython",
    "version": 3
   },
   "file_extension": ".py",
   "mimetype": "text/x-python",
   "name": "python",
   "nbconvert_exporter": "python",
   "pygments_lexer": "ipython3",
   "version": "3.8.10 (default, Jun 22 2022, 20:18:18) \n[GCC 9.4.0]"
  },
  "orig_nbformat": 4,
  "vscode": {
   "interpreter": {
    "hash": "916dbcbb3f70747c44a77c7bcd40155683ae19c65e1c03b4aa3499c5328201f1"
   }
  }
 },
 "nbformat": 4,
 "nbformat_minor": 2
}
