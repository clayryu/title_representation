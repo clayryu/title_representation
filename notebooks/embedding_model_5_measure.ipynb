{
 "cells": [
  {
   "cell_type": "code",
   "execution_count": 1,
   "metadata": {},
   "outputs": [
    {
     "name": "stdout",
     "output_type": "stream",
     "text": [
      "/home/clay/userdata/title_generation\n"
     ]
    }
   ],
   "source": [
    "%cd ..\n",
    "%load_ext autoreload\n",
    "%autoreload 2"
   ]
  },
  {
   "cell_type": "code",
   "execution_count": 6,
   "metadata": {},
   "outputs": [],
   "source": [
    "import argparse\n",
    "from pathlib import Path\n",
    "from typing import Union\n",
    "import torch\n",
    "from torch.utils.data import DataLoader\n",
    "import torch.nn as nn\n",
    "from torch.nn.utils.rnn import PackedSequence\n",
    "import matplotlib.pyplot as plt\n",
    "\n",
    "from data_utils import pack_collate, ABCsetTitle, MeasureOffsetSet\n",
    "from trainer import Trainer, TrainerPitchDur\n",
    "from model_zoo import MeasureInfoModel\n",
    "from emb_loss import get_batch_contrastive_loss\n",
    "from emb_trainer import EmbTrainer"
   ]
  },
  {
   "cell_type": "code",
   "execution_count": 7,
   "metadata": {},
   "outputs": [],
   "source": [
    "parser = argparse.ArgumentParser()\n",
    "parser.add_argument('--path', type=str, default='dataset/the_session/',\n",
    "                    help='directory path to the dataset')\n",
    "parser.add_argument('--batch_size', type=int, default=32)\n",
    "parser.add_argument('--num_epochs', type=int, default=10)\n",
    "parser.add_argument('--lr', type=float, default=0.001)\n",
    "parser.add_argument('--hidden_size', type=int, default=256)\n",
    "parser.add_argument('--num_layers', type=int, default=3)\n",
    "parser.add_argument('--dropout', type=float, default=0.1)\n",
    "parser.add_argument('--num_workers', type=int, default=2)\n",
    "parser.add_argument('--device', type=str, default='cuda')\n",
    "parser.add_argument('--vocab_path', type=str, default='dataset/the_session/measure_info_vocab.json')\n",
    "\n",
    "#parser.add_argument('--model_type', type=str, default='pitch_dur')\n",
    "parser.add_argument('--save_dir', type=Path, default=Path('experiments/'))\n",
    "\n",
    "args = parser.parse_args('')"
   ]
  },
  {
   "cell_type": "code",
   "execution_count": 8,
   "metadata": {},
   "outputs": [
    {
     "ename": "ValueError",
     "evalue": "min() arg is an empty sequence",
     "output_type": "error",
     "traceback": [
      "\u001b[0;31m---------------------------------------------------------------------------\u001b[0m",
      "\u001b[0;31mValueError\u001b[0m                                Traceback (most recent call last)",
      "\u001b[1;32m/home/clay/userdata/title_generation/notebooks/embedding_model_5_measure.ipynb Cell 4\u001b[0m in \u001b[0;36m<module>\u001b[0;34m\u001b[0m\n\u001b[1;32m      <a href='vscode-notebook-cell://ssh-remote%2B163.239.104.244/home/clay/userdata/title_generation/notebooks/embedding_model_5_measure.ipynb#W3sdnNjb2RlLXJlbW90ZQ%3D%3D?line=0'>1</a>\u001b[0m score_dir \u001b[39m=\u001b[39m Path(args\u001b[39m.\u001b[39mpath)\n\u001b[0;32m----> <a href='vscode-notebook-cell://ssh-remote%2B163.239.104.244/home/clay/userdata/title_generation/notebooks/embedding_model_5_measure.ipynb#W3sdnNjb2RlLXJlbW90ZQ%3D%3D?line=2'>3</a>\u001b[0m dataset_meas \u001b[39m=\u001b[39m MeasureOffsetSet(score_dir, args\u001b[39m.\u001b[39;49mvocab_path)\n\u001b[1;32m      <a href='vscode-notebook-cell://ssh-remote%2B163.239.104.244/home/clay/userdata/title_generation/notebooks/embedding_model_5_measure.ipynb#W3sdnNjb2RlLXJlbW90ZQ%3D%3D?line=3'>4</a>\u001b[0m dataset_ttl \u001b[39m=\u001b[39m ABCsetTitle(score_dir, args\u001b[39m.\u001b[39mvocab_path)\n",
      "File \u001b[0;32m~/userdata/title_generation/data_utils.py:294\u001b[0m, in \u001b[0;36mMeasureOffsetSet.__init__\u001b[0;34m(self, dir_path, vocab_path, num_limit, make_vocab, key_aug, vocab_name)\u001b[0m\n\u001b[1;32m    293\u001b[0m \u001b[39mdef\u001b[39;00m \u001b[39m__init__\u001b[39m(\u001b[39mself\u001b[39m, dir_path, vocab_path\u001b[39m=\u001b[39m\u001b[39mNone\u001b[39;00m, num_limit\u001b[39m=\u001b[39m\u001b[39mNone\u001b[39;00m, make_vocab\u001b[39m=\u001b[39m\u001b[39mTrue\u001b[39;00m, key_aug\u001b[39m=\u001b[39m\u001b[39mNone\u001b[39;00m, vocab_name\u001b[39m=\u001b[39m\u001b[39m'\u001b[39m\u001b[39mTokenVocab\u001b[39m\u001b[39m'\u001b[39m):\n\u001b[0;32m--> 294\u001b[0m   \u001b[39msuper\u001b[39;49m()\u001b[39m.\u001b[39;49m\u001b[39m__init__\u001b[39;49m(dir_path, vocab_path, num_limit, make_vocab, key_aug, vocab_name)\n",
      "File \u001b[0;32m~/userdata/title_generation/data_utils.py:271\u001b[0m, in \u001b[0;36mPitchDurSplitSet.__init__\u001b[0;34m(self, dir_path, vocab_path, num_limit, make_vocab, key_aug, vocab_name)\u001b[0m\n\u001b[1;32m    270\u001b[0m \u001b[39mdef\u001b[39;00m \u001b[39m__init__\u001b[39m(\u001b[39mself\u001b[39m, dir_path, vocab_path\u001b[39m=\u001b[39m\u001b[39mNone\u001b[39;00m, num_limit\u001b[39m=\u001b[39m\u001b[39mNone\u001b[39;00m, make_vocab\u001b[39m=\u001b[39m\u001b[39mTrue\u001b[39;00m, key_aug\u001b[39m=\u001b[39m\u001b[39mNone\u001b[39;00m, vocab_name\u001b[39m=\u001b[39m\u001b[39m'\u001b[39m\u001b[39mTokenVocab\u001b[39m\u001b[39m'\u001b[39m):\n\u001b[0;32m--> 271\u001b[0m   \u001b[39msuper\u001b[39;49m()\u001b[39m.\u001b[39;49m\u001b[39m__init__\u001b[39;49m(dir_path, vocab_path, num_limit, make_vocab, key_aug, vocab_name)\n",
      "File \u001b[0;32m~/userdata/title_generation/data_utils.py:195\u001b[0m, in \u001b[0;36mABCset.__init__\u001b[0;34m(self, dir_path, vocab_path, num_limit, make_vocab, key_aug, vocab_name)\u001b[0m\n\u001b[1;32m    193\u001b[0m \u001b[39mself\u001b[39m\u001b[39m.\u001b[39m_prepare_data()\n\u001b[1;32m    194\u001b[0m \u001b[39mif\u001b[39;00m make_vocab:\n\u001b[0;32m--> 195\u001b[0m   \u001b[39mself\u001b[39;49m\u001b[39m.\u001b[39;49m_get_vocab(vocab_path, vocab_name)\n\u001b[1;32m    196\u001b[0m \u001b[39mself\u001b[39m\u001b[39m.\u001b[39maugmentor \u001b[39m=\u001b[39m Augmentor(key_aug, \u001b[39mself\u001b[39m\u001b[39m.\u001b[39mtune_list)\n",
      "File \u001b[0;32m~/userdata/title_generation/data_utils.py:347\u001b[0m, in \u001b[0;36mMeasureOffsetSet._get_vocab\u001b[0;34m(self, vocab_path, vocab_name)\u001b[0m\n\u001b[1;32m    344\u001b[0m unique_char_list \u001b[39m=\u001b[39m \u001b[39msorted\u001b[39m(\u001b[39mlist\u001b[39m(\u001b[39mset\u001b[39m(entire_char_list)))  \u001b[39m+\u001b[39m unique_header_list \u001b[39m+\u001b[39m unique_measure_info_list\n\u001b[1;32m    345\u001b[0m \u001b[39m# self.vocab = TokenVocab(vocab_path, unique_char_list)\u001b[39;00m\n\u001b[1;32m    346\u001b[0m \u001b[39m# self.vocab = MusicTokenVocab(vocab_path, unique_char_list)\u001b[39;00m\n\u001b[0;32m--> 347\u001b[0m \u001b[39mself\u001b[39m\u001b[39m.\u001b[39mvocab \u001b[39m=\u001b[39m \u001b[39mgetattr\u001b[39;49m(vocab_utils, vocab_name)(vocab_path, unique_char_list)\n",
      "File \u001b[0;32m~/userdata/title_generation/vocab_utils.py:42\u001b[0m, in \u001b[0;36mTokenVocab.__init__\u001b[0;34m(self, json_path, unique_char_set)\u001b[0m\n\u001b[1;32m     39\u001b[0m     \u001b[39mif\u001b[39;00m key \u001b[39min\u001b[39;00m [\u001b[39m'\u001b[39m\u001b[39mmain\u001b[39m\u001b[39m'\u001b[39m, \u001b[39m'\u001b[39m\u001b[39mdur\u001b[39m\u001b[39m'\u001b[39m, \u001b[39m'\u001b[39m\u001b[39mm_idx\u001b[39m\u001b[39m'\u001b[39m, \u001b[39m'\u001b[39m\u001b[39mm_offset\u001b[39m\u001b[39m'\u001b[39m]:\n\u001b[1;32m     40\u001b[0m       \u001b[39mself\u001b[39m\u001b[39m.\u001b[39mvocab[key] \u001b[39m=\u001b[39m [\u001b[39m'\u001b[39m\u001b[39m<pad>\u001b[39m\u001b[39m'\u001b[39m, \u001b[39m'\u001b[39m\u001b[39m<start>\u001b[39m\u001b[39m'\u001b[39m, \u001b[39m'\u001b[39m\u001b[39m<end>\u001b[39m\u001b[39m'\u001b[39m] \u001b[39m+\u001b[39m \u001b[39msorted\u001b[39m(\u001b[39mself\u001b[39m\u001b[39m.\u001b[39mvocab[key])\n\u001b[0;32m---> 42\u001b[0m   \u001b[39mself\u001b[39m\u001b[39m.\u001b[39mvocab[\u001b[39m'\u001b[39m\u001b[39mmain\u001b[39m\u001b[39m'\u001b[39m] \u001b[39m=\u001b[39m \u001b[39mself\u001b[39;49m\u001b[39m.\u001b[39;49maugment_pitch_vocab()\n\u001b[1;32m     43\u001b[0m   \u001b[39mself\u001b[39m\u001b[39m.\u001b[39mvocab[\u001b[39m'\u001b[39m\u001b[39mkey\u001b[39m\u001b[39m'\u001b[39m] \u001b[39m=\u001b[39m \u001b[39mself\u001b[39m\u001b[39m.\u001b[39maugment_key_vocab()\n\u001b[1;32m     44\u001b[0m \u001b[39mself\u001b[39m\u001b[39m.\u001b[39mtok2idx \u001b[39m=\u001b[39m {key: {k:i \u001b[39mfor\u001b[39;00m i, k \u001b[39min\u001b[39;00m \u001b[39menumerate\u001b[39m(value)}  \u001b[39mfor\u001b[39;00m key, value \u001b[39min\u001b[39;00m \u001b[39mself\u001b[39m\u001b[39m.\u001b[39mvocab\u001b[39m.\u001b[39mitems() }\n",
      "File \u001b[0;32m~/userdata/title_generation/vocab_utils.py:56\u001b[0m, in \u001b[0;36mTokenVocab.augment_pitch_vocab\u001b[0;34m(self)\u001b[0m\n\u001b[1;32m     54\u001b[0m \u001b[39mif\u001b[39;00m \u001b[39m0\u001b[39m \u001b[39min\u001b[39;00m pitch_int:\n\u001b[1;32m     55\u001b[0m   pitch_int\u001b[39m.\u001b[39mremove(\u001b[39m0\u001b[39m)\n\u001b[0;32m---> 56\u001b[0m min_pitch \u001b[39m=\u001b[39m \u001b[39mmin\u001b[39;49m(pitch_int)\n\u001b[1;32m     57\u001b[0m max_pitch \u001b[39m=\u001b[39m \u001b[39mmax\u001b[39m(pitch_int)\n\u001b[1;32m     58\u001b[0m new_pitch_vocab \u001b[39m=\u001b[39m [\u001b[39mf\u001b[39m\u001b[39m'\u001b[39m\u001b[39mpitch\u001b[39m\u001b[39m{\u001b[39;00mx\u001b[39m}\u001b[39;00m\u001b[39m'\u001b[39m \u001b[39mfor\u001b[39;00m x \u001b[39min\u001b[39;00m \u001b[39mrange\u001b[39m(min_pitch\u001b[39m-\u001b[39m\u001b[39m7\u001b[39m, max_pitch\u001b[39m+\u001b[39m\u001b[39m24\u001b[39m)]\n",
      "\u001b[0;31mValueError\u001b[0m: min() arg is an empty sequence"
     ]
    }
   ],
   "source": [
    "score_dir = Path(args.path)\n",
    "\n",
    "dataset_meas = MeasureOffsetSet(score_dir, args.vocab_path)\n",
    "dataset_ttl = ABCsetTitle(score_dir, args.vocab_path)"
   ]
  },
  {
   "cell_type": "code",
   "execution_count": 16,
   "metadata": {},
   "outputs": [
    {
     "data": {
      "text/plain": [
       "34274"
      ]
     },
     "execution_count": 16,
     "metadata": {},
     "output_type": "execute_result"
    }
   ],
   "source": [
    "len(dataset_meas.tune_list)"
   ]
  },
  {
   "cell_type": "code",
   "execution_count": 15,
   "metadata": {},
   "outputs": [
    {
     "data": {
      "text/plain": [
       "(tensor([[  1,   0,   1,   1,  23,   7,   3,  10],\n",
       "         [112,  10,   3,   3,  23,   7,   3,  10],\n",
       "         [  3,   0,   3,  27,  23,   7,   3,  10],\n",
       "         [112,   7,   3,  27,  23,   7,   3,  10],\n",
       "         [108,   7,   3,  32,  23,   7,   3,  10],\n",
       "         [  3,   0,   3,  37,  23,   7,   3,  10],\n",
       "         [110,  10,   3,  37,  23,   7,   3,  10],\n",
       "         [  3,   0,   3,  47,  23,   7,   3,  10],\n",
       "         [110,   7,   3,  47,  23,   7,   3,  10],\n",
       "         [115,   7,   3,  51,  23,   7,   3,  10],\n",
       "         [140,   0,   3,  56,  23,   7,   3,  10],\n",
       "         [112,   7,   4,   3,  23,   7,   3,  10],\n",
       "         [110,   7,   4,   8,  23,   7,   3,  10],\n",
       "         [112,   7,   4,  27,  23,   7,   3,  10],\n",
       "         [115,   7,   4,  32,  23,   7,   3,  10],\n",
       "         [  3,   0,   4,  37,  23,   7,   3,  10],\n",
       "         [117,   7,   4,  37,  23,   7,   3,  10],\n",
       "         [119,   7,   4,  42,  23,   7,   3,  10],\n",
       "         [120,   7,   4,  47,  23,   7,   3,  10],\n",
       "         [115,   7,   4,  51,  23,   7,   3,  10],\n",
       "         [140,   0,   4,  56,  23,   7,   3,  10],\n",
       "         [112,  10,  49,   3,  23,   7,   3,  10],\n",
       "         [  3,   0,  49,  27,  23,   7,   3,  10],\n",
       "         [112,   7,  49,  27,  23,   7,   3,  10],\n",
       "         [108,   7,  49,  32,  23,   7,   3,  10],\n",
       "         [  3,   0,  49,  37,  23,   7,   3,  10],\n",
       "         [110,  10,  49,  37,  23,   7,   3,  10],\n",
       "         [  3,   0,  49,  47,  23,   7,   3,  10],\n",
       "         [110,   7,  49,  47,  23,   7,   3,  10],\n",
       "         [115,   7,  49,  51,  23,   7,   3,  10],\n",
       "         [140,   0,  49,  56,  23,   7,   3,  10],\n",
       "         [112,   7,  60,   3,  23,   7,   3,  10],\n",
       "         [110,   7,  60,   8,  23,   7,   3,  10],\n",
       "         [112,   7,  60,  27,  23,   7,   3,  10],\n",
       "         [115,   7,  60,  32,  23,   7,   3,  10],\n",
       "         [  3,   0,  60,  37,  23,   7,   3,  10],\n",
       "         [117,  10,  60,  37,  23,   7,   3,  10],\n",
       "         [  3,   0,  60,  47,  23,   7,   3,  10],\n",
       "         [117,  10,  60,  47,  23,   7,   3,  10],\n",
       "         [ 32,   0,  60,  56,  23,   7,   3,  10],\n",
       "         [117,   7,  71,   3,  23,   7,   3,  10],\n",
       "         [119,   7,  71,   8,  23,   7,   3,  10],\n",
       "         [120,   7,  71,  27,  23,   7,   3,  10],\n",
       "         [117,   7,  71,  32,  23,   7,   3,  10],\n",
       "         [  3,   0,  71,  37,  23,   7,   3,  10],\n",
       "         [122,   7,  71,  37,  23,   7,   3,  10],\n",
       "         [119,   7,  71,  42,  23,   7,   3,  10],\n",
       "         [115,   7,  71,  47,  23,   7,   3,  10],\n",
       "         [119,   7,  71,  51,  23,   7,   3,  10],\n",
       "         [140,   0,  71,  56,  23,   7,   3,  10],\n",
       "         [117,   7,  82,   3,  23,   7,   3,  10],\n",
       "         [119,   7,  82,   8,  23,   7,   3,  10],\n",
       "         [120,   7,  82,  27,  23,   7,   3,  10],\n",
       "         [117,   7,  82,  32,  23,   7,   3,  10],\n",
       "         [  3,   0,  82,  37,  23,   7,   3,  10],\n",
       "         [119,  10,  82,  37,  23,   7,   3,  10],\n",
       "         [  3,   0,  82,  47,  23,   7,   3,  10],\n",
       "         [119,  10,  82,  47,  23,   7,   3,  10],\n",
       "         [140,   0,  82,  56,  23,   7,   3,  10],\n",
       "         [117,   7,  93,   3,  23,   7,   3,  10],\n",
       "         [119,   7,  93,   8,  23,   7,   3,  10],\n",
       "         [120,   7,  93,  27,  23,   7,   3,  10],\n",
       "         [117,   7,  93,  32,  23,   7,   3,  10],\n",
       "         [  3,   0,  93,  37,  23,   7,   3,  10],\n",
       "         [122,   7,  93,  37,  23,   7,   3,  10],\n",
       "         [119,   7,  93,  42,  23,   7,   3,  10],\n",
       "         [115,   7,  93,  47,  23,   7,   3,  10],\n",
       "         [119,   7,  93,  51,  23,   7,   3,  10],\n",
       "         [140,   0,  93,  56,  23,   7,   3,  10],\n",
       "         [117,   7, 104,   3,  23,   7,   3,  10],\n",
       "         [115,   7, 104,   8,  23,   7,   3,  10],\n",
       "         [112,   7, 104,  27,  23,   7,   3,  10],\n",
       "         [115,   7, 104,  32,  23,   7,   3,  10],\n",
       "         [  3,   0, 104,  37,  23,   7,   3,  10],\n",
       "         [117,  10, 104,  37,  23,   7,   3,  10],\n",
       "         [  3,   0, 104,  47,  23,   7,   3,  10],\n",
       "         [117,  10, 104,  47,  23,   7,   3,  10],\n",
       "         [ 32,   0, 104,  56,  23,   7,   3,  10],\n",
       "         [  2,   0,   2,   2,  23,   7,   3,  10]]),\n",
       " tensor([-1.0995e-01,  1.6775e-02, -3.9042e-02,  2.0261e-03,  2.7279e-02,\n",
       "         -6.2424e-03,  4.3840e-02, -2.0759e-02,  4.8829e-03,  1.2910e-03,\n",
       "         -2.5441e-02, -7.5944e-02,  7.9475e-02,  1.1586e-02,  4.5316e-02,\n",
       "          5.5826e-02, -4.3271e-02,  4.3201e-02,  2.2144e-02, -7.1277e-02,\n",
       "         -8.8834e-02,  1.2583e-01, -7.3262e-02, -3.3999e-02, -1.7369e-02,\n",
       "         -4.0350e-02,  2.7381e-02,  6.0966e-02, -2.9739e-02, -3.1585e-02,\n",
       "          5.9877e-03, -1.0712e-02,  1.2336e-02, -1.0421e-04, -2.1173e-02,\n",
       "         -3.4216e-02, -7.2542e-03,  1.0555e-02,  1.2806e-02, -1.3099e-03,\n",
       "         -6.7642e-02, -5.6341e-02, -3.1501e-02, -8.4160e-02,  4.4033e-02,\n",
       "          8.9162e-03, -7.2752e-03, -4.4295e-02,  1.2404e-02,  2.9433e-03,\n",
       "         -7.4605e-02, -1.1651e-02, -2.6650e-02, -6.7157e-03,  4.4304e-02,\n",
       "         -5.0430e-02, -1.9338e-02,  1.1674e-02, -2.5161e-02,  1.3281e-02,\n",
       "         -7.5882e-02,  2.1286e-02, -4.9332e-02, -5.9245e-02,  1.4304e-01,\n",
       "         -7.2005e-03, -1.0032e-01,  2.9840e-03, -3.8317e-02,  7.5972e-02,\n",
       "         -3.0437e-02, -7.0869e-02,  1.0322e-02, -1.3750e-02, -7.2317e-02,\n",
       "         -1.1931e-02,  1.8184e-02, -1.0171e-03,  1.4517e-02,  2.4773e-02,\n",
       "         -1.3890e-02, -4.7612e-02, -8.8903e-02, -6.7541e-02, -4.2201e-02,\n",
       "         -2.4780e-02, -5.1354e-02, -2.3277e-02, -6.0079e-02,  7.2560e-02,\n",
       "         -3.0531e-02, -4.3554e-03, -4.0108e-02,  7.4495e-02,  4.0549e-02,\n",
       "          8.5780e-03, -3.4993e-02, -2.3990e-02, -9.6711e-02,  1.7543e-01,\n",
       "          2.2098e-02,  7.7162e-02,  6.6182e-03, -3.8093e-02,  7.1627e-02,\n",
       "          1.1775e-02,  5.7933e-02,  8.8761e-02,  2.1595e-02, -6.1580e-02,\n",
       "          1.5947e-02,  4.0727e-02, -8.9155e-02,  1.8374e-02, -1.1794e-02,\n",
       "         -5.4594e-02, -3.6623e-02,  3.6557e-02, -3.2018e-02, -1.2381e-02,\n",
       "          7.5873e-02,  1.3086e-01, -5.8397e-02, -1.0139e-02, -1.7531e-02,\n",
       "         -7.2561e-04, -5.2449e-04, -4.0138e-33, -2.8438e-03, -2.8247e-02,\n",
       "          4.8273e-02,  5.2297e-02,  2.5879e-02,  5.8967e-02, -3.7817e-02,\n",
       "          6.8269e-03,  5.2628e-02,  7.8859e-02,  7.1170e-02,  1.7219e-02,\n",
       "         -6.3639e-02, -7.2432e-02, -1.5790e-03,  7.6010e-02, -2.3324e-03,\n",
       "         -4.7947e-02, -1.8108e-03, -5.0207e-02, -5.7191e-02,  8.7634e-02,\n",
       "          4.1667e-02,  3.7411e-02,  5.2067e-03, -3.2275e-02,  3.3031e-02,\n",
       "         -6.7403e-02,  6.2112e-02,  7.0427e-02,  4.1375e-02,  6.7657e-02,\n",
       "         -6.4807e-02, -3.3505e-02,  7.1871e-02, -3.9341e-02, -5.1278e-02,\n",
       "         -7.6521e-02, -6.7884e-02, -2.7802e-02, -4.1719e-02,  7.2212e-03,\n",
       "         -6.1313e-03,  4.8666e-02, -1.3523e-01, -1.1195e-02,  6.3655e-03,\n",
       "          4.6702e-02,  8.6873e-02,  1.4304e-02, -1.4199e-02, -6.9005e-02,\n",
       "         -4.6159e-02, -3.0047e-02,  1.0161e-02, -1.6733e-02,  8.0160e-02,\n",
       "          7.5971e-02,  1.1707e-02, -5.7246e-04,  7.5716e-03,  2.2929e-02,\n",
       "          4.3981e-02,  2.2471e-02,  4.5008e-02, -8.7171e-02,  7.1318e-02,\n",
       "         -1.6860e-02, -5.9050e-02, -6.1352e-03,  1.6346e-02, -1.3153e-02,\n",
       "          1.0133e-01, -9.6621e-03, -1.7997e-02, -3.7261e-02,  4.1387e-02,\n",
       "          7.0036e-02,  2.0530e-02, -2.1771e-02, -2.9295e-02, -1.1164e-02,\n",
       "         -1.5796e-03, -4.0919e-02,  1.0833e-01,  2.2298e-02,  2.9882e-02,\n",
       "         -4.6260e-02,  8.9819e-02,  1.4055e-02, -1.2195e-01, -2.5070e-02,\n",
       "          3.5359e-02,  2.2660e-02, -9.7607e-02,  2.3711e-33, -6.8946e-02,\n",
       "          1.5616e-02,  7.6616e-02,  1.0282e-01,  3.9829e-02, -3.6115e-02,\n",
       "          1.1750e-02, -4.7094e-03, -6.0027e-03,  6.2129e-02, -3.6165e-02,\n",
       "         -2.0550e-02,  6.4836e-02, -2.6618e-02,  7.7246e-02, -4.7456e-03,\n",
       "         -3.1682e-02,  1.8280e-02, -3.5096e-03,  5.0464e-02, -7.7783e-02,\n",
       "         -7.4376e-02,  1.7841e-02, -2.9862e-02, -1.3809e-02,  5.8637e-02,\n",
       "         -1.3162e-02, -9.2706e-03, -8.1578e-02, -1.5304e-02, -1.3103e-02,\n",
       "          2.1565e-02, -8.8702e-02, -9.3904e-02, -4.9925e-02,  7.1247e-02,\n",
       "          5.1765e-02,  9.7955e-02,  6.2213e-02,  2.8776e-02, -4.3440e-02,\n",
       "          1.8000e-02,  6.2028e-04,  5.2600e-02,  1.4701e-02, -4.4806e-02,\n",
       "         -2.7269e-02, -1.4378e-03, -3.3333e-02,  1.1605e-01, -3.9493e-02,\n",
       "          9.6211e-02, -4.5890e-02, -1.7089e-02, -4.8496e-03, -2.8349e-02,\n",
       "         -4.8368e-02, -5.0368e-03,  5.5071e-02,  8.6369e-03, -3.5973e-02,\n",
       "          3.7976e-02, -7.6041e-02, -7.5894e-03, -2.2211e-02,  7.9549e-02,\n",
       "          2.9105e-02,  3.6181e-02,  5.3537e-02,  5.6680e-02,  4.1132e-02,\n",
       "          1.1034e-02,  8.3109e-02, -2.4357e-02, -4.5873e-02, -1.4138e-02,\n",
       "         -1.3373e-02, -2.7648e-02, -2.9303e-02, -6.1870e-02,  6.5869e-02,\n",
       "         -3.0038e-02, -2.4851e-02,  9.9883e-02, -2.9275e-02, -8.9063e-03,\n",
       "          5.8016e-02,  5.6835e-02,  3.1853e-02, -3.5957e-02,  3.3814e-02,\n",
       "          1.1692e-02,  7.4410e-03, -1.0611e-01, -7.6308e-02, -1.3957e-08,\n",
       "         -7.3878e-02, -2.4655e-02, -1.0963e-02, -2.3940e-02,  1.1377e-01,\n",
       "          2.1551e-03, -8.6642e-02,  7.9245e-03,  5.4956e-02,  4.2018e-02,\n",
       "          3.6165e-02,  3.9177e-03,  4.6131e-02, -4.5162e-02,  7.5003e-03,\n",
       "          3.6175e-04, -6.7730e-02,  5.3994e-03,  2.6060e-02,  8.6074e-02,\n",
       "          2.2789e-02,  5.9511e-02,  7.5393e-02, -8.3176e-03,  3.9562e-02,\n",
       "         -8.8208e-03, -3.6328e-02,  5.9362e-02, -2.2208e-02,  3.3524e-02,\n",
       "          4.1400e-02,  1.0010e-01, -8.2356e-02, -4.4842e-02, -5.5200e-02,\n",
       "         -9.3699e-02,  6.4311e-02, -1.4654e-04, -2.2805e-03, -8.7870e-03,\n",
       "         -5.4797e-02,  1.3788e-02, -3.2141e-02,  1.4761e-02,  8.8565e-03,\n",
       "          3.2820e-02,  1.3862e-02,  6.9012e-02, -4.9112e-02, -2.7080e-02,\n",
       "         -5.0740e-02, -5.2464e-02,  8.6757e-02,  2.4127e-02,  5.9027e-02,\n",
       "         -6.0403e-02,  6.0741e-02,  3.4962e-02, -7.2094e-03, -3.5119e-02,\n",
       "          1.0974e-01,  3.7474e-03,  7.6938e-02, -1.0024e-01]))"
      ]
     },
     "execution_count": 15,
     "metadata": {},
     "output_type": "execute_result"
    }
   ],
   "source": [
    "dataset_ttl[3]"
   ]
  },
  {
   "cell_type": "code",
   "execution_count": 28,
   "metadata": {},
   "outputs": [
    {
     "data": {
      "text/plain": [
       "(\"Whinham's\", \"Whinham's\")"
      ]
     },
     "execution_count": 28,
     "metadata": {},
     "output_type": "execute_result"
    }
   ],
   "source": [
    "i = 0\n",
    "for i in range(len(dataset_ttl.filtered_tunes_list_avail)):\n",
    "  if dataset_ttl.filtered_tunes_list_avail[i][0].title != dataset_ttl.title_in_text_avail[i]:\n",
    "    print('something wrong')\n",
    "dataset_ttl.filtered_tunes_list_avail[i][0].title, dataset_ttl.title_in_text_avail[i]"
   ]
  },
  {
   "cell_type": "code",
   "execution_count": 5,
   "metadata": {},
   "outputs": [
    {
     "data": {
      "text/plain": [
       "MeasureInfoModel(\n",
       "  (emb): MultiEmbedding(\n",
       "    (layers): ModuleList(\n",
       "      (0): Embedding(154, 256)\n",
       "      (1): Embedding(21, 256)\n",
       "      (2): Embedding(138, 128)\n",
       "      (3): Embedding(61, 128)\n",
       "      (4): Embedding(26, 64)\n",
       "      (5): Embedding(10, 64)\n",
       "      (6): Embedding(4, 64)\n",
       "      (7): Embedding(16, 64)\n",
       "    )\n",
       "  )\n",
       "  (rnn): GRU(1024, 256, num_layers=3, batch_first=True, dropout=0.1)\n",
       "  (proj): Linear(in_features=256, out_features=175, bias=True)\n",
       ")"
      ]
     },
     "execution_count": 5,
     "metadata": {},
     "output_type": "execute_result"
    }
   ],
   "source": [
    "model = MeasureInfoModel(dataset_meas.vocab.get_size(), args.hidden_size)\n",
    "#model = torch.load('melody_lm_best.pt')\n",
    "model.load_state_dict(torch.load('melody_lm_best_meas.pt')['model'])\n",
    "model.eval()"
   ]
  },
  {
   "cell_type": "code",
   "execution_count": 6,
   "metadata": {},
   "outputs": [
    {
     "data": {
      "text/plain": [
       "<All keys matched successfully>"
      ]
     },
     "execution_count": 6,
     "metadata": {},
     "output_type": "execute_result"
    }
   ],
   "source": [
    "rnn_trans = nn.GRU(int(args.hidden_size * 4), args.hidden_size, num_layers=3, batch_first=True, dropout=0.1)\n",
    "rnn_trans.load_state_dict(model.rnn.state_dict())"
   ]
  },
  {
   "cell_type": "code",
   "execution_count": 7,
   "metadata": {},
   "outputs": [],
   "source": [
    "class MultiEmbedding(nn.Module):\n",
    "  def __init__(self, vocab_sizes: Union[list, tuple], embedding_sizes: Union[int, list, tuple]) -> None:\n",
    "    super().__init__()\n",
    "    self.layers = []\n",
    "    if isinstance(embedding_sizes, int):\n",
    "      embedding_sizes = [embedding_sizes] * len(vocab_sizes)\n",
    "    for vocab_size, embedding_size in zip(vocab_sizes, embedding_sizes):\n",
    "      self.layers.append(nn.Embedding(vocab_size, embedding_size))\n",
    "    self.layers = nn.ModuleList(self.layers)\n",
    "\n",
    "  def forward(self, x):\n",
    "    return torch.cat([module(x[..., i]) for i, module in enumerate(self.layers)], dim=-1)"
   ]
  },
  {
   "cell_type": "code",
   "execution_count": 8,
   "metadata": {},
   "outputs": [],
   "source": [
    "emb_trans = MultiEmbedding(dataset_meas.vocab.get_size(), [args.hidden_size, \n",
    "                                                      args.hidden_size, \n",
    "                                                      args.hidden_size//2, \n",
    "                                                      args.hidden_size//2,\n",
    "                                                      args.hidden_size//4,\n",
    "                                                      args.hidden_size//4,\n",
    "                                                      args.hidden_size//4,\n",
    "                                                      args.hidden_size//4])"
   ]
  },
  {
   "cell_type": "code",
   "execution_count": 9,
   "metadata": {},
   "outputs": [
    {
     "data": {
      "text/plain": [
       "<All keys matched successfully>"
      ]
     },
     "execution_count": 9,
     "metadata": {},
     "output_type": "execute_result"
    }
   ],
   "source": [
    "emb_trans.load_state_dict(model.emb.state_dict())"
   ]
  },
  {
   "cell_type": "code",
   "execution_count": 10,
   "metadata": {},
   "outputs": [],
   "source": [
    "class ABC_meas_emb_Model(nn.Module):\n",
    "  def __init__(self, vocab_size, hidden_size=128, emb_size=128):\n",
    "    super().__init__()\n",
    "    self.vocab_size = vocab_size\n",
    "    self.hidden_size = hidden_size\n",
    "    self.emb = emb_trans\n",
    "    self.rnn = rnn_trans\n",
    "    self.proj = nn.Linear(self.hidden_size, emb_size)\n",
    "    \n",
    "  def forward(self, input_seq):\n",
    "    if isinstance(input_seq, PackedSequence):\n",
    "      emb = PackedSequence(self.emb(input_seq[0]), input_seq[1], input_seq[2], input_seq[3])\n",
    "      hidden, last_hidden = self.rnn(emb)\n",
    "      hidden_emb = last_hidden.data[-1] # 1 x 256\n",
    "      final_emb = self.proj(hidden_emb) # 1 x 128\n",
    "      \n",
    "    return final_emb"
   ]
  },
  {
   "cell_type": "code",
   "execution_count": 11,
   "metadata": {},
   "outputs": [],
   "source": [
    "ABC_emb_model = ABC_meas_emb_Model(dataset_meas.vocab.get_size(), args.hidden_size, emb_size=128)"
   ]
  },
  {
   "cell_type": "code",
   "execution_count": 47,
   "metadata": {},
   "outputs": [
    {
     "data": {
      "text/plain": [
       "15382"
      ]
     },
     "execution_count": 47,
     "metadata": {},
     "output_type": "execute_result"
    }
   ],
   "source": [
    "len(dataset_ttl) # len size가 data_loader와 관련이 있을까?"
   ]
  },
  {
   "cell_type": "code",
   "execution_count": 12,
   "metadata": {},
   "outputs": [],
   "source": [
    "trainset, validset = torch.utils.data.random_split(dataset_ttl, [int(len(dataset_ttl)*0.9), len(dataset_ttl) - int(len(dataset_ttl)*0.9)], generator=torch.Generator().manual_seed(42))\n",
    "\n",
    "train_loader = DataLoader(trainset, batch_size=args.batch_size, collate_fn=pack_collate, shuffle=True) #collate_fn=pack_collate)\n",
    "valid_loader = DataLoader(validset, batch_size=args.batch_size, collate_fn=pack_collate, shuffle=False) #collate_fn=pack_collate)\n"
   ]
  },
  {
   "cell_type": "code",
   "execution_count": 13,
   "metadata": {},
   "outputs": [
    {
     "data": {
      "text/plain": [
       "torch.Size([32, 128])"
      ]
     },
     "execution_count": 13,
     "metadata": {},
     "output_type": "execute_result"
    }
   ],
   "source": [
    "sample = next(iter(train_loader))\n",
    "ABC_emb_model(sample[0]).shape"
   ]
  },
  {
   "cell_type": "code",
   "execution_count": 14,
   "metadata": {},
   "outputs": [],
   "source": [
    "class TTLembModel(nn.Module): \n",
    "    def __init__(self, in_embedding_size=384, hidden_size=256, out_embedding_size=128):\n",
    "        super().__init__()\n",
    "        self.layer = nn.Sequential(nn.Linear(in_embedding_size, hidden_size),\n",
    "                                   nn.ReLU(),\n",
    "                                   nn.Linear(hidden_size, out_embedding_size) \n",
    "                                    )\n",
    "        \n",
    "    def forward(self, x):\n",
    "        '''\n",
    "        x (torch.FloatTensor): N x Feature\n",
    "        '''\n",
    "        return self.layer(x)"
   ]
  },
  {
   "cell_type": "code",
   "execution_count": 15,
   "metadata": {},
   "outputs": [
    {
     "ename": "NameError",
     "evalue": "name 'ABC_pidu_emb_Model' is not defined",
     "output_type": "error",
     "traceback": [
      "\u001b[0;31m---------------------------------------------------------------------------\u001b[0m",
      "\u001b[0;31mNameError\u001b[0m                                 Traceback (most recent call last)",
      "\u001b[1;32m/home/clay/userdata/musegen/irish-maler/notebooks/embedding_model_5_measure.ipynb Cell 6'\u001b[0m in \u001b[0;36m<module>\u001b[0;34m\u001b[0m\n\u001b[1;32m      <a href='vscode-notebook-cell://ssh-remote%2B163.239.104.244/home/clay/userdata/musegen/irish-maler/notebooks/embedding_model_5_measure.ipynb#ch0000005vscode-remote?line=0'>1</a>\u001b[0m batch_size \u001b[39m=\u001b[39m \u001b[39m32\u001b[39m\n\u001b[1;32m      <a href='vscode-notebook-cell://ssh-remote%2B163.239.104.244/home/clay/userdata/musegen/irish-maler/notebooks/embedding_model_5_measure.ipynb#ch0000005vscode-remote?line=2'>3</a>\u001b[0m \u001b[39m# model1 = ABCembModel(len(dataset.vocab)).to('cuda')\u001b[39;00m\n\u001b[0;32m----> <a href='vscode-notebook-cell://ssh-remote%2B163.239.104.244/home/clay/userdata/musegen/irish-maler/notebooks/embedding_model_5_measure.ipynb#ch0000005vscode-remote?line=3'>4</a>\u001b[0m model1 \u001b[39m=\u001b[39m ABC_pidu_emb_Model(dataset_pidu\u001b[39m.\u001b[39mvocab\u001b[39m.\u001b[39mget_size(), args\u001b[39m.\u001b[39mhidden_size, emb_size\u001b[39m=\u001b[39m\u001b[39m128\u001b[39m)\u001b[39m.\u001b[39mto(\u001b[39m'\u001b[39m\u001b[39mcuda\u001b[39m\u001b[39m'\u001b[39m)\n\u001b[1;32m      <a href='vscode-notebook-cell://ssh-remote%2B163.239.104.244/home/clay/userdata/musegen/irish-maler/notebooks/embedding_model_5_measure.ipynb#ch0000005vscode-remote?line=4'>5</a>\u001b[0m model2 \u001b[39m=\u001b[39m TTLembModel()\u001b[39m.\u001b[39mto(\u001b[39m'\u001b[39m\u001b[39mcuda\u001b[39m\u001b[39m'\u001b[39m)\n\u001b[1;32m      <a href='vscode-notebook-cell://ssh-remote%2B163.239.104.244/home/clay/userdata/musegen/irish-maler/notebooks/embedding_model_5_measure.ipynb#ch0000005vscode-remote?line=6'>7</a>\u001b[0m optimizer1 \u001b[39m=\u001b[39m torch\u001b[39m.\u001b[39moptim\u001b[39m.\u001b[39mAdam(model1\u001b[39m.\u001b[39mparameters(), lr\u001b[39m=\u001b[39m\u001b[39m1e-4\u001b[39m)\n",
      "\u001b[0;31mNameError\u001b[0m: name 'ABC_pidu_emb_Model' is not defined"
     ]
    }
   ],
   "source": [
    "batch_size = 32\n",
    "\n",
    "# model1 = ABCembModel(len(dataset.vocab)).to('cuda')\n",
    "model1 = ABC_pidu_emb_Model(dataset_pidu.vocab.get_size(), args.hidden_size, emb_size=128).to('cuda')\n",
    "model2 = TTLembModel().to('cuda')\n",
    "\n",
    "optimizer1 = torch.optim.Adam(model1.parameters(), lr=1e-4)\n",
    "optimizer2 = torch.optim.Adam(model2.parameters(), lr=1e-4)\n",
    "\n",
    "loss_fn = get_batch_contrastive_loss\n",
    "\n",
    "trainset, validset = torch.utils.data.random_split(dataset_ttl, [int(len(dataset_ttl)*0.9), len(dataset_ttl) - int(len(dataset_ttl)*0.9)], generator=torch.Generator().manual_seed(42))\n",
    "\n",
    "train_loader = DataLoader(trainset, batch_size=args.batch_size, collate_fn=pack_collate_title, shuffle=True) #collate_fn=pack_collate)\n",
    "valid_loader = DataLoader(validset, batch_size=args.batch_size, collate_fn=pack_collate_title, shuffle=False) #collate_fn=pack_collate)\n",
    "\n",
    "trainer = EmbTrainer(model1, model2, optimizer1, optimizer2, loss_fn, train_loader, valid_loader, device='cuda')"
   ]
  },
  {
   "cell_type": "code",
   "execution_count": 23,
   "metadata": {},
   "outputs": [
    {
     "data": {
      "application/vnd.jupyter.widget-view+json": {
       "model_id": "54ec540d75c94cf4a613b3b17a576148",
       "version_major": 2,
       "version_minor": 0
      },
      "text/plain": [
       "  0%|          | 0/50 [00:00<?, ?it/s]"
      ]
     },
     "metadata": {},
     "output_type": "display_data"
    },
    {
     "data": {
      "application/vnd.jupyter.widget-view+json": {
       "model_id": "402b22b8b9ab41e08d8a5bd3834a421b",
       "version_major": 2,
       "version_minor": 0
      },
      "text/plain": [
       "  0%|          | 0/3 [00:00<?, ?it/s]"
      ]
     },
     "metadata": {},
     "output_type": "display_data"
    },
    {
     "name": "stdout",
     "output_type": "stream",
     "text": [
      "Saving the model with best validation loss: Epoch 1, Loss: 0.4986 \n"
     ]
    },
    {
     "data": {
      "application/vnd.jupyter.widget-view+json": {
       "model_id": "4ef3412b3fe54fedb033b01560616c8d",
       "version_major": 2,
       "version_minor": 0
      },
      "text/plain": [
       "  0%|          | 0/3 [00:00<?, ?it/s]"
      ]
     },
     "metadata": {},
     "output_type": "display_data"
    },
    {
     "name": "stdout",
     "output_type": "stream",
     "text": [
      "Saving the model with best validation loss: Epoch 2, Loss: 0.4947 \n"
     ]
    },
    {
     "data": {
      "application/vnd.jupyter.widget-view+json": {
       "model_id": "72eeb2860a3446b982bdaa76c2c3c40f",
       "version_major": 2,
       "version_minor": 0
      },
      "text/plain": [
       "  0%|          | 0/3 [00:00<?, ?it/s]"
      ]
     },
     "metadata": {},
     "output_type": "display_data"
    },
    {
     "name": "stdout",
     "output_type": "stream",
     "text": [
      "Saving the model with best validation loss: Epoch 3, Loss: 0.4845 \n"
     ]
    },
    {
     "data": {
      "application/vnd.jupyter.widget-view+json": {
       "model_id": "e11b518cdab2411585d36147d4c6f0fc",
       "version_major": 2,
       "version_minor": 0
      },
      "text/plain": [
       "  0%|          | 0/3 [00:00<?, ?it/s]"
      ]
     },
     "metadata": {},
     "output_type": "display_data"
    },
    {
     "name": "stdout",
     "output_type": "stream",
     "text": [
      "Saving the model with best validation loss: Epoch 4, Loss: 0.4589 \n"
     ]
    },
    {
     "data": {
      "application/vnd.jupyter.widget-view+json": {
       "model_id": "e3d2b6886ab74e67920da7ecececd8c6",
       "version_major": 2,
       "version_minor": 0
      },
      "text/plain": [
       "  0%|          | 0/3 [00:00<?, ?it/s]"
      ]
     },
     "metadata": {},
     "output_type": "display_data"
    },
    {
     "name": "stdout",
     "output_type": "stream",
     "text": [
      "Saving the model with best validation loss: Epoch 5, Loss: 0.4480 \n"
     ]
    },
    {
     "data": {
      "application/vnd.jupyter.widget-view+json": {
       "model_id": "9b92fde4b6f54d1499f0ae91e06330da",
       "version_major": 2,
       "version_minor": 0
      },
      "text/plain": [
       "  0%|          | 0/3 [00:00<?, ?it/s]"
      ]
     },
     "metadata": {},
     "output_type": "display_data"
    },
    {
     "data": {
      "application/vnd.jupyter.widget-view+json": {
       "model_id": "d0a032d911954614b63aa7eae2f79def",
       "version_major": 2,
       "version_minor": 0
      },
      "text/plain": [
       "  0%|          | 0/3 [00:00<?, ?it/s]"
      ]
     },
     "metadata": {},
     "output_type": "display_data"
    },
    {
     "data": {
      "application/vnd.jupyter.widget-view+json": {
       "model_id": "685dad7f81484021a8bf1bccb71c36a7",
       "version_major": 2,
       "version_minor": 0
      },
      "text/plain": [
       "  0%|          | 0/3 [00:00<?, ?it/s]"
      ]
     },
     "metadata": {},
     "output_type": "display_data"
    },
    {
     "data": {
      "application/vnd.jupyter.widget-view+json": {
       "model_id": "6914d9e948244bff9705861ec40f26f5",
       "version_major": 2,
       "version_minor": 0
      },
      "text/plain": [
       "  0%|          | 0/3 [00:00<?, ?it/s]"
      ]
     },
     "metadata": {},
     "output_type": "display_data"
    },
    {
     "data": {
      "application/vnd.jupyter.widget-view+json": {
       "model_id": "3067999d95bd44c292900947fa72ae44",
       "version_major": 2,
       "version_minor": 0
      },
      "text/plain": [
       "  0%|          | 0/3 [00:00<?, ?it/s]"
      ]
     },
     "metadata": {},
     "output_type": "display_data"
    },
    {
     "data": {
      "application/vnd.jupyter.widget-view+json": {
       "model_id": "5f4593907b41428fbf388142fb89f5e6",
       "version_major": 2,
       "version_minor": 0
      },
      "text/plain": [
       "  0%|          | 0/3 [00:00<?, ?it/s]"
      ]
     },
     "metadata": {},
     "output_type": "display_data"
    },
    {
     "data": {
      "application/vnd.jupyter.widget-view+json": {
       "model_id": "7b660805d368434b833511a40af87657",
       "version_major": 2,
       "version_minor": 0
      },
      "text/plain": [
       "  0%|          | 0/3 [00:00<?, ?it/s]"
      ]
     },
     "metadata": {},
     "output_type": "display_data"
    },
    {
     "data": {
      "application/vnd.jupyter.widget-view+json": {
       "model_id": "0791800d29fd4533b143f3b19ef2f8f3",
       "version_major": 2,
       "version_minor": 0
      },
      "text/plain": [
       "  0%|          | 0/3 [00:00<?, ?it/s]"
      ]
     },
     "metadata": {},
     "output_type": "display_data"
    },
    {
     "data": {
      "application/vnd.jupyter.widget-view+json": {
       "model_id": "d8549cbfd94149d2847b55b6ce0f8d41",
       "version_major": 2,
       "version_minor": 0
      },
      "text/plain": [
       "  0%|          | 0/3 [00:00<?, ?it/s]"
      ]
     },
     "metadata": {},
     "output_type": "display_data"
    },
    {
     "data": {
      "application/vnd.jupyter.widget-view+json": {
       "model_id": "f51e2e53ace646e79086e6785bbec17d",
       "version_major": 2,
       "version_minor": 0
      },
      "text/plain": [
       "  0%|          | 0/3 [00:00<?, ?it/s]"
      ]
     },
     "metadata": {},
     "output_type": "display_data"
    },
    {
     "data": {
      "application/vnd.jupyter.widget-view+json": {
       "model_id": "3fe7334bb739471e90e290e607398480",
       "version_major": 2,
       "version_minor": 0
      },
      "text/plain": [
       "  0%|          | 0/3 [00:00<?, ?it/s]"
      ]
     },
     "metadata": {},
     "output_type": "display_data"
    },
    {
     "data": {
      "application/vnd.jupyter.widget-view+json": {
       "model_id": "9aad70ceebd2413a9e1954d80f7e9017",
       "version_major": 2,
       "version_minor": 0
      },
      "text/plain": [
       "  0%|          | 0/3 [00:00<?, ?it/s]"
      ]
     },
     "metadata": {},
     "output_type": "display_data"
    },
    {
     "data": {
      "application/vnd.jupyter.widget-view+json": {
       "model_id": "d72e741760e445248bfb5ffcee6aca3b",
       "version_major": 2,
       "version_minor": 0
      },
      "text/plain": [
       "  0%|          | 0/3 [00:00<?, ?it/s]"
      ]
     },
     "metadata": {},
     "output_type": "display_data"
    },
    {
     "data": {
      "application/vnd.jupyter.widget-view+json": {
       "model_id": "1c609eb1bd25422c9a1a5de2c3920dde",
       "version_major": 2,
       "version_minor": 0
      },
      "text/plain": [
       "  0%|          | 0/3 [00:00<?, ?it/s]"
      ]
     },
     "metadata": {},
     "output_type": "display_data"
    },
    {
     "data": {
      "application/vnd.jupyter.widget-view+json": {
       "model_id": "fbcff3ba52d5464cb38b4ad3dedc821a",
       "version_major": 2,
       "version_minor": 0
      },
      "text/plain": [
       "  0%|          | 0/3 [00:00<?, ?it/s]"
      ]
     },
     "metadata": {},
     "output_type": "display_data"
    },
    {
     "data": {
      "application/vnd.jupyter.widget-view+json": {
       "model_id": "b17c0c1eb8bb4d7f941edbc5df2f914f",
       "version_major": 2,
       "version_minor": 0
      },
      "text/plain": [
       "  0%|          | 0/3 [00:00<?, ?it/s]"
      ]
     },
     "metadata": {},
     "output_type": "display_data"
    },
    {
     "data": {
      "application/vnd.jupyter.widget-view+json": {
       "model_id": "0a4e6dbe6a04462080f7f3376415b430",
       "version_major": 2,
       "version_minor": 0
      },
      "text/plain": [
       "  0%|          | 0/3 [00:00<?, ?it/s]"
      ]
     },
     "metadata": {},
     "output_type": "display_data"
    },
    {
     "data": {
      "application/vnd.jupyter.widget-view+json": {
       "model_id": "7157755c1aa442f58df2ac6855cf911b",
       "version_major": 2,
       "version_minor": 0
      },
      "text/plain": [
       "  0%|          | 0/3 [00:00<?, ?it/s]"
      ]
     },
     "metadata": {},
     "output_type": "display_data"
    },
    {
     "data": {
      "application/vnd.jupyter.widget-view+json": {
       "model_id": "ee578b516f894d349666cd397dc6f154",
       "version_major": 2,
       "version_minor": 0
      },
      "text/plain": [
       "  0%|          | 0/3 [00:00<?, ?it/s]"
      ]
     },
     "metadata": {},
     "output_type": "display_data"
    },
    {
     "data": {
      "application/vnd.jupyter.widget-view+json": {
       "model_id": "00da745a4b66487ea6796440760e00d3",
       "version_major": 2,
       "version_minor": 0
      },
      "text/plain": [
       "  0%|          | 0/3 [00:00<?, ?it/s]"
      ]
     },
     "metadata": {},
     "output_type": "display_data"
    },
    {
     "data": {
      "application/vnd.jupyter.widget-view+json": {
       "model_id": "00f5dec6289f4f76aad1a8c6bb849228",
       "version_major": 2,
       "version_minor": 0
      },
      "text/plain": [
       "  0%|          | 0/3 [00:00<?, ?it/s]"
      ]
     },
     "metadata": {},
     "output_type": "display_data"
    },
    {
     "data": {
      "application/vnd.jupyter.widget-view+json": {
       "model_id": "f9fa0a8ef6d24c87a265e73bacd9b3f0",
       "version_major": 2,
       "version_minor": 0
      },
      "text/plain": [
       "  0%|          | 0/3 [00:00<?, ?it/s]"
      ]
     },
     "metadata": {},
     "output_type": "display_data"
    },
    {
     "data": {
      "application/vnd.jupyter.widget-view+json": {
       "model_id": "5064619ac1f94dcaa97d6d00a8d85c05",
       "version_major": 2,
       "version_minor": 0
      },
      "text/plain": [
       "  0%|          | 0/3 [00:00<?, ?it/s]"
      ]
     },
     "metadata": {},
     "output_type": "display_data"
    },
    {
     "data": {
      "application/vnd.jupyter.widget-view+json": {
       "model_id": "36ea30e3b04b4976bba6ce7a29a83fe7",
       "version_major": 2,
       "version_minor": 0
      },
      "text/plain": [
       "  0%|          | 0/3 [00:00<?, ?it/s]"
      ]
     },
     "metadata": {},
     "output_type": "display_data"
    },
    {
     "data": {
      "application/vnd.jupyter.widget-view+json": {
       "model_id": "4dd3b768eec64d4d87091141357918a1",
       "version_major": 2,
       "version_minor": 0
      },
      "text/plain": [
       "  0%|          | 0/3 [00:00<?, ?it/s]"
      ]
     },
     "metadata": {},
     "output_type": "display_data"
    },
    {
     "data": {
      "application/vnd.jupyter.widget-view+json": {
       "model_id": "db3dd28b3c4a4c4187c5c1d42e811e0f",
       "version_major": 2,
       "version_minor": 0
      },
      "text/plain": [
       "  0%|          | 0/3 [00:00<?, ?it/s]"
      ]
     },
     "metadata": {},
     "output_type": "display_data"
    },
    {
     "data": {
      "application/vnd.jupyter.widget-view+json": {
       "model_id": "8fb79122e9e54c85b0404e33b636c207",
       "version_major": 2,
       "version_minor": 0
      },
      "text/plain": [
       "  0%|          | 0/3 [00:00<?, ?it/s]"
      ]
     },
     "metadata": {},
     "output_type": "display_data"
    },
    {
     "data": {
      "application/vnd.jupyter.widget-view+json": {
       "model_id": "19cda7bd166647358271455a5d484c23",
       "version_major": 2,
       "version_minor": 0
      },
      "text/plain": [
       "  0%|          | 0/3 [00:00<?, ?it/s]"
      ]
     },
     "metadata": {},
     "output_type": "display_data"
    },
    {
     "data": {
      "application/vnd.jupyter.widget-view+json": {
       "model_id": "25a5dbff78fc41fe8bbc627c61d8584b",
       "version_major": 2,
       "version_minor": 0
      },
      "text/plain": [
       "  0%|          | 0/3 [00:00<?, ?it/s]"
      ]
     },
     "metadata": {},
     "output_type": "display_data"
    },
    {
     "data": {
      "application/vnd.jupyter.widget-view+json": {
       "model_id": "01bc110c50284555ac67763b6f197aab",
       "version_major": 2,
       "version_minor": 0
      },
      "text/plain": [
       "  0%|          | 0/3 [00:00<?, ?it/s]"
      ]
     },
     "metadata": {},
     "output_type": "display_data"
    },
    {
     "data": {
      "application/vnd.jupyter.widget-view+json": {
       "model_id": "a9e8aaa3f1aa4eeaa68190fc3fd7e840",
       "version_major": 2,
       "version_minor": 0
      },
      "text/plain": [
       "  0%|          | 0/3 [00:00<?, ?it/s]"
      ]
     },
     "metadata": {},
     "output_type": "display_data"
    },
    {
     "data": {
      "application/vnd.jupyter.widget-view+json": {
       "model_id": "bb78b9c13cc54150be5ad3f9f952f4ff",
       "version_major": 2,
       "version_minor": 0
      },
      "text/plain": [
       "  0%|          | 0/3 [00:00<?, ?it/s]"
      ]
     },
     "metadata": {},
     "output_type": "display_data"
    },
    {
     "data": {
      "application/vnd.jupyter.widget-view+json": {
       "model_id": "288799d02be34856a52e3dfaa3f3c50e",
       "version_major": 2,
       "version_minor": 0
      },
      "text/plain": [
       "  0%|          | 0/3 [00:00<?, ?it/s]"
      ]
     },
     "metadata": {},
     "output_type": "display_data"
    },
    {
     "data": {
      "application/vnd.jupyter.widget-view+json": {
       "model_id": "8baf239e6dd24dfd9f5a1a9917a7d27b",
       "version_major": 2,
       "version_minor": 0
      },
      "text/plain": [
       "  0%|          | 0/3 [00:00<?, ?it/s]"
      ]
     },
     "metadata": {},
     "output_type": "display_data"
    },
    {
     "data": {
      "application/vnd.jupyter.widget-view+json": {
       "model_id": "d727ee65ea324e839a5a13f7705cfe83",
       "version_major": 2,
       "version_minor": 0
      },
      "text/plain": [
       "  0%|          | 0/3 [00:00<?, ?it/s]"
      ]
     },
     "metadata": {},
     "output_type": "display_data"
    },
    {
     "data": {
      "application/vnd.jupyter.widget-view+json": {
       "model_id": "c8f2737d723c44b5bc3588997d1fc935",
       "version_major": 2,
       "version_minor": 0
      },
      "text/plain": [
       "  0%|          | 0/3 [00:00<?, ?it/s]"
      ]
     },
     "metadata": {},
     "output_type": "display_data"
    },
    {
     "data": {
      "application/vnd.jupyter.widget-view+json": {
       "model_id": "998dd96873644248a883624193471b5e",
       "version_major": 2,
       "version_minor": 0
      },
      "text/plain": [
       "  0%|          | 0/3 [00:00<?, ?it/s]"
      ]
     },
     "metadata": {},
     "output_type": "display_data"
    },
    {
     "data": {
      "application/vnd.jupyter.widget-view+json": {
       "model_id": "d44dad94e256426386da971bbf616b63",
       "version_major": 2,
       "version_minor": 0
      },
      "text/plain": [
       "  0%|          | 0/3 [00:00<?, ?it/s]"
      ]
     },
     "metadata": {},
     "output_type": "display_data"
    },
    {
     "data": {
      "application/vnd.jupyter.widget-view+json": {
       "model_id": "1680a6f5190e42a79dc90a08ab03ab78",
       "version_major": 2,
       "version_minor": 0
      },
      "text/plain": [
       "  0%|          | 0/3 [00:00<?, ?it/s]"
      ]
     },
     "metadata": {},
     "output_type": "display_data"
    },
    {
     "data": {
      "application/vnd.jupyter.widget-view+json": {
       "model_id": "5fe1118d96a1431ea91196c8f083bb2f",
       "version_major": 2,
       "version_minor": 0
      },
      "text/plain": [
       "  0%|          | 0/3 [00:00<?, ?it/s]"
      ]
     },
     "metadata": {},
     "output_type": "display_data"
    },
    {
     "data": {
      "application/vnd.jupyter.widget-view+json": {
       "model_id": "f8b6837f15c04d1d8e2fec897b62943a",
       "version_major": 2,
       "version_minor": 0
      },
      "text/plain": [
       "  0%|          | 0/3 [00:00<?, ?it/s]"
      ]
     },
     "metadata": {},
     "output_type": "display_data"
    },
    {
     "data": {
      "application/vnd.jupyter.widget-view+json": {
       "model_id": "4009bdaabd3c4024b4827f1b22371a97",
       "version_major": 2,
       "version_minor": 0
      },
      "text/plain": [
       "  0%|          | 0/3 [00:00<?, ?it/s]"
      ]
     },
     "metadata": {},
     "output_type": "display_data"
    },
    {
     "data": {
      "application/vnd.jupyter.widget-view+json": {
       "model_id": "035a7f694b09486fa483983e2a013b55",
       "version_major": 2,
       "version_minor": 0
      },
      "text/plain": [
       "  0%|          | 0/3 [00:00<?, ?it/s]"
      ]
     },
     "metadata": {},
     "output_type": "display_data"
    },
    {
     "data": {
      "application/vnd.jupyter.widget-view+json": {
       "model_id": "58807521ea6a48719e0ae54123e9a12b",
       "version_major": 2,
       "version_minor": 0
      },
      "text/plain": [
       "  0%|          | 0/3 [00:00<?, ?it/s]"
      ]
     },
     "metadata": {},
     "output_type": "display_data"
    },
    {
     "data": {
      "application/vnd.jupyter.widget-view+json": {
       "model_id": "e767c04210c24f119bffb91409b6c7ca",
       "version_major": 2,
       "version_minor": 0
      },
      "text/plain": [
       "  0%|          | 0/3 [00:00<?, ?it/s]"
      ]
     },
     "metadata": {},
     "output_type": "display_data"
    }
   ],
   "source": [
    "trainer.train_by_num_epoch(50)"
   ]
  },
  {
   "cell_type": "code",
   "execution_count": 25,
   "metadata": {},
   "outputs": [
    {
     "data": {
      "text/plain": [
       "[<matplotlib.lines.Line2D at 0x7fd7bc5126d0>]"
      ]
     },
     "execution_count": 25,
     "metadata": {},
     "output_type": "execute_result"
    },
    {
     "data": {
      "image/png": "[encoded data removed]",
      "text/plain": [
       "<Figure size 432x288 with 1 Axes>"
      ]
     },
     "metadata": {
      "image/png": {
       "height": 248,
       "width": 381
      },
      "needs_background": "light"
     },
     "output_type": "display_data"
    }
   ],
   "source": [
    "plt.plot(trainer.training_loss)"
   ]
  },
  {
   "cell_type": "code",
   "execution_count": 26,
   "metadata": {},
   "outputs": [
    {
     "data": {
      "text/plain": [
       "[<matplotlib.lines.Line2D at 0x7fd7bc475d00>]"
      ]
     },
     "execution_count": 26,
     "metadata": {},
     "output_type": "execute_result"
    },
    {
     "data": {
      "image/png": "[encoded data removed]",
      "text/plain": [
       "<Figure size 432x288 with 1 Axes>"
      ]
     },
     "metadata": {
      "image/png": {
       "height": 248,
       "width": 378
      },
      "needs_background": "light"
     },
     "output_type": "display_data"
    }
   ],
   "source": [
    "plt.plot(trainer.validation_loss)"
   ]
  },
  {
   "cell_type": "code",
   "execution_count": 27,
   "metadata": {},
   "outputs": [
    {
     "data": {
      "text/plain": [
       "[<matplotlib.lines.Line2D at 0x7fd7bc444160>]"
      ]
     },
     "execution_count": 27,
     "metadata": {},
     "output_type": "execute_result"
    },
    {
     "data": {
      "image/png": "[encoded data removed]",
      "text/plain": [
       "<Figure size 432x288 with 1 Axes>"
      ]
     },
     "metadata": {
      "image/png": {
       "height": 248,
       "width": 378
      },
      "needs_background": "light"
     },
     "output_type": "display_data"
    }
   ],
   "source": [
    "plt.plot(trainer.validation_acc)"
   ]
  },
  {
   "cell_type": "code",
   "execution_count": null,
   "metadata": {},
   "outputs": [],
   "source": []
  }
 ],
 "metadata": {
  "kernelspec": {
   "display_name": "Python 3 (ipykernel)",
   "language": "python",
   "name": "python3"
  },
  "language_info": {
   "codemirror_mode": {
    "name": "ipython",
    "version": 3
   },
   "file_extension": ".py",
   "mimetype": "text/x-python",
   "name": "python",
   "nbconvert_exporter": "python",
   "pygments_lexer": "ipython3",
   "version": "3.8.10"
  },
  "vscode": {
   "interpreter": {
    "hash": "916dbcbb3f70747c44a77c7bcd40155683ae19c65e1c03b4aa3499c5328201f1"
   }
  }
 },
 "nbformat": 4,
 "nbformat_minor": 2
}
