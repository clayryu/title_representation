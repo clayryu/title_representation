{
 "cells": [
  {
   "cell_type": "code",
   "execution_count": 1,
   "metadata": {},
   "outputs": [
    {
     "name": "stdout",
     "output_type": "stream",
     "text": [
      "/home/clay/userdata/title_generation\n"
     ]
    }
   ],
   "source": [
    "%cd ..\n",
    "%load_ext autoreload\n",
    "%autoreload 2"
   ]
  },
  {
   "cell_type": "code",
   "execution_count": 6,
   "metadata": {},
   "outputs": [],
   "source": [
    "from pyabc import pyabc\n",
    "from pathlib import Path"
   ]
  },
  {
   "cell_type": "code",
   "execution_count": 3,
   "metadata": {},
   "outputs": [],
   "source": [
    "def read_tunes(file_path):\n",
    "    with open(file_path, 'r') as f:\n",
    "        fr = f.read()\n",
    "    tunes = pyabc.Tunes(abc=fr)\n",
    "    return tunes"
   ]
  },
  {
   "cell_type": "code",
   "execution_count": 4,
   "metadata": {},
   "outputs": [],
   "source": [
    "def prepare_abc(paths: list):\n",
    "  tune_list = []\n",
    "  error_list = []\n",
    "  for path in paths:\n",
    "    try:\n",
    "      # tune = read_abc(path)\n",
    "      # tune_list.append(tune)\n",
    "      tunes = read_tunes(path)\n",
    "      if len(tunes.tunes) == 0:\n",
    "        error_list.append(path)\n",
    "      else:\n",
    "        tune_list += tunes.tunes\n",
    "    except:\n",
    "      error_list.append(path)\n",
    "  return tune_list, error_list"
   ]
  },
  {
   "cell_type": "code",
   "execution_count": 7,
   "metadata": {},
   "outputs": [],
   "source": [
    "session_dir = Path('abc_dataset/AIMG2022/')\n",
    "session_abcs = list(session_dir.rglob('*.abc'))\n",
    "session_abcs.sort(key=lambda x: int(x.stem))"
   ]
  },
  {
   "cell_type": "code",
   "execution_count": 8,
   "metadata": {},
   "outputs": [],
   "source": [
    "tune_list, error_list = prepare_abc(session_abcs)"
   ]
  },
  {
   "cell_type": "code",
   "execution_count": 15,
   "metadata": {},
   "outputs": [
    {
     "data": {
      "text/plain": [
       "[<pyabc.pyabc.Tune at 0x7f51004beb50>,\n",
       " <pyabc.pyabc.Tune at 0x7f50f81456d0>,\n",
       " <pyabc.pyabc.Tune at 0x7f50f8101520>,\n",
       " <pyabc.pyabc.Tune at 0x7f5102313c70>,\n",
       " <pyabc.pyabc.Tune at 0x7f50f811c160>,\n",
       " <pyabc.pyabc.Tune at 0x7f50f8122fa0>,\n",
       " <pyabc.pyabc.Tune at 0x7f50f8136040>,\n",
       " <pyabc.pyabc.Tune at 0x7f50f80bee50>,\n",
       " <pyabc.pyabc.Tune at 0x7f50f80cdd00>,\n",
       " <pyabc.pyabc.Tune at 0x7f50f8145790>,\n",
       " <pyabc.pyabc.Tune at 0x7f50f80e7d00>,\n",
       " <pyabc.pyabc.Tune at 0x7f50f80f3d00>,\n",
       " <pyabc.pyabc.Tune at 0x7f50f8079c70>,\n",
       " <pyabc.pyabc.Tune at 0x7f50f8091d60>,\n",
       " <pyabc.pyabc.Tune at 0x7f50f809fa60>,\n",
       " <pyabc.pyabc.Tune at 0x7f50f80afa90>,\n",
       " <pyabc.pyabc.Tune at 0x7f50f803ebb0>,\n",
       " <pyabc.pyabc.Tune at 0x7f50f804ebe0>,\n",
       " <pyabc.pyabc.Tune at 0x7f50f805bee0>,\n",
       " <pyabc.pyabc.Tune at 0x7f50f8075220>,\n",
       " <pyabc.pyabc.Tune at 0x7f50dffc03a0>,\n",
       " <pyabc.pyabc.Tune at 0x7f50dffde520>,\n",
       " <pyabc.pyabc.Tune at 0x7f50dfff14c0>,\n",
       " <pyabc.pyabc.Tune at 0x7f50dfff5310>,\n",
       " <pyabc.pyabc.Tune at 0x7f50dff92430>,\n",
       " <pyabc.pyabc.Tune at 0x7f50dffa3070>,\n",
       " <pyabc.pyabc.Tune at 0x7f50dffa7100>,\n",
       " <pyabc.pyabc.Tune at 0x7f50dffb6e20>,\n",
       " <pyabc.pyabc.Tune at 0x7f50dff46be0>,\n",
       " <pyabc.pyabc.Tune at 0x7f50dff58760>,\n",
       " <pyabc.pyabc.Tune at 0x7f50dff69970>,\n",
       " <pyabc.pyabc.Tune at 0x7f50dff7f370>,\n",
       " <pyabc.pyabc.Tune at 0x7f50dff13580>,\n",
       " <pyabc.pyabc.Tune at 0x7f50dff23580>,\n",
       " <pyabc.pyabc.Tune at 0x7f50dff308b0>,\n",
       " <pyabc.pyabc.Tune at 0x7f50dff3b850>,\n",
       " <pyabc.pyabc.Tune at 0x7f50dfed0070>,\n",
       " <pyabc.pyabc.Tune at 0x7f50dfee0070>,\n",
       " <pyabc.pyabc.Tune at 0x7f50dfeebf40>,\n",
       " <pyabc.pyabc.Tune at 0x7f50dfefcf10>,\n",
       " <pyabc.pyabc.Tune at 0x7f50dfe8dd30>,\n",
       " <pyabc.pyabc.Tune at 0x7f50dfe9ee80>,\n",
       " <pyabc.pyabc.Tune at 0x7f50dfeb90a0>,\n",
       " <pyabc.pyabc.Tune at 0x7f50dfe43e50>,\n",
       " <pyabc.pyabc.Tune at 0x7f50dfe54b50>,\n",
       " <pyabc.pyabc.Tune at 0x7f50dfe65d90>,\n",
       " <pyabc.pyabc.Tune at 0x7f50dfe76c40>,\n",
       " <pyabc.pyabc.Tune at 0x7f50dfe06af0>,\n",
       " <pyabc.pyabc.Tune at 0x7f50dfe18c10>,\n",
       " <pyabc.pyabc.Tune at 0x7f50dfe29e20>]"
      ]
     },
     "execution_count": 15,
     "metadata": {},
     "output_type": "execute_result"
    }
   ],
   "source": [
    "tune_list"
   ]
  },
  {
   "cell_type": "code",
   "execution_count": 31,
   "metadata": {},
   "outputs": [],
   "source": [
    "# 텐서 순서 바꾸기\n",
    "import torch\n",
    "\n",
    "a = torch.tensor([ 0, 30, 18, 17, 44, 48, 31, 29, 41, 20, 40, 19, 12, 23, 47, 15,  5, 32,\n",
    "        36, 14, 10, 49, 16, 38, 21,  2,  8, 34,  3, 11, 37,  1, 45, 46,  4, 22,\n",
    "         7,  6, 27, 42, 39, 26, 13, 43, 24, 28, 35, 33, 25,  9])"
   ]
  },
  {
   "cell_type": "code",
   "execution_count": 32,
   "metadata": {},
   "outputs": [
    {
     "data": {
      "text/plain": [
       "tensor([ 0,  1,  2,  3,  4,  5,  6,  7,  8,  9, 10, 11, 12, 13, 14, 15, 16, 17,\n",
       "        18, 19, 20, 21, 22, 23, 24, 25, 26, 27, 28, 29, 30, 31, 32, 33, 34, 35,\n",
       "        36, 37, 38, 39, 40, 41, 42, 43, 44, 45, 46, 47, 48, 49])"
      ]
     },
     "execution_count": 32,
     "metadata": {},
     "output_type": "execute_result"
    }
   ],
   "source": [
    "b = torch.tensor([ 0, 31, 25, 28, 34, 16, 37, 36, 26, 49, 20, 29, 12, 42, 19, 15, 22,  3,\n",
    "         2, 11,  9, 24, 35, 13, 44, 48, 41, 38, 45,  7,  1,  6, 17, 47, 27, 46,\n",
    "        18, 30, 23, 40, 10,  8, 39, 43,  4, 32, 33, 14,  5, 21])\n",
    "a[b]"
   ]
  },
  {
   "cell_type": "code",
   "execution_count": 38,
   "metadata": {},
   "outputs": [
    {
     "data": {
      "text/plain": [
       "tensor([[ 0,  1],\n",
       "        [62, 63],\n",
       "        [50, 51],\n",
       "        [56, 57],\n",
       "        [68, 69],\n",
       "        [32, 33],\n",
       "        [74, 75],\n",
       "        [72, 73],\n",
       "        [52, 53],\n",
       "        [98, 99],\n",
       "        [40, 41],\n",
       "        [58, 59],\n",
       "        [24, 25],\n",
       "        [84, 85],\n",
       "        [38, 39],\n",
       "        [30, 31],\n",
       "        [44, 45],\n",
       "        [ 6,  7],\n",
       "        [ 4,  5],\n",
       "        [22, 23],\n",
       "        [18, 19],\n",
       "        [48, 49],\n",
       "        [70, 71],\n",
       "        [26, 27],\n",
       "        [88, 89],\n",
       "        [96, 97],\n",
       "        [82, 83],\n",
       "        [76, 77],\n",
       "        [90, 91],\n",
       "        [14, 15],\n",
       "        [ 2,  3],\n",
       "        [12, 13],\n",
       "        [34, 35],\n",
       "        [94, 95],\n",
       "        [54, 55],\n",
       "        [92, 93],\n",
       "        [36, 37],\n",
       "        [60, 61],\n",
       "        [46, 47],\n",
       "        [80, 81],\n",
       "        [20, 21],\n",
       "        [16, 17],\n",
       "        [78, 79],\n",
       "        [86, 87],\n",
       "        [ 8,  9],\n",
       "        [64, 65],\n",
       "        [66, 67],\n",
       "        [28, 29],\n",
       "        [10, 11],\n",
       "        [42, 43]])"
      ]
     },
     "execution_count": 38,
     "metadata": {},
     "output_type": "execute_result"
    }
   ],
   "source": [
    "c = torch.arange(100)\n",
    "c = c.view(50,2)\n",
    "c[b]"
   ]
  },
  {
   "cell_type": "code",
   "execution_count": null,
   "metadata": {},
   "outputs": [],
   "source": []
  }
 ],
 "metadata": {
  "kernelspec": {
   "display_name": "Python 3",
   "language": "python",
   "name": "python3"
  },
  "language_info": {
   "codemirror_mode": {
    "name": "ipython",
    "version": 3
   },
   "file_extension": ".py",
   "mimetype": "text/x-python",
   "name": "python",
   "nbconvert_exporter": "python",
   "pygments_lexer": "ipython3",
   "version": "3.8.10"
  },
  "orig_nbformat": 4,
  "vscode": {
   "interpreter": {
    "hash": "916dbcbb3f70747c44a77c7bcd40155683ae19c65e1c03b4aa3499c5328201f1"
   }
  }
 },
 "nbformat": 4,
 "nbformat_minor": 2
}
