{
 "cells": [
  {
   "cell_type": "code",
   "execution_count": 8,
   "metadata": {},
   "outputs": [],
   "source": [
    "import torch\n",
    "\n",
    "def clip_loss(logits, labels, margin=0.4):\n",
    "    logits_max, _ = logits.max(dim=1, keepdim=True)\n",
    "    logits = logits - logits_max\n",
    "    targets = (labels > 0).float()\n",
    "    losses = -targets * logits + torch.log(1 + torch.exp(logits))\n",
    "    losses = losses.sum(dim=1)\n",
    "    return losses.mean()\n",
    "\n",
    "logits = torch.tensor([[0.1, 0.2, 0.3], [0.4, 0.5, 0.6]])\n",
    "labels = torch.tensor([1, 2])"
   ]
  },
  {
   "cell_type": "code",
   "execution_count": 9,
   "metadata": {},
   "outputs": [
    {
     "data": {
      "text/plain": [
       "tensor([[0.3000],\n",
       "        [0.6000]])"
      ]
     },
     "execution_count": 9,
     "metadata": {},
     "output_type": "execute_result"
    }
   ],
   "source": [
    "logits_max, ex = logits.max(dim=1, keepdim=True)\n",
    "logits_max"
   ]
  },
  {
   "cell_type": "code",
   "execution_count": 10,
   "metadata": {},
   "outputs": [
    {
     "data": {
      "text/plain": [
       "tensor([[-0.2000, -0.1000,  0.0000],\n",
       "        [-0.2000, -0.1000,  0.0000]])"
      ]
     },
     "execution_count": 10,
     "metadata": {},
     "output_type": "execute_result"
    }
   ],
   "source": [
    "logits_norm = logits - logits_max\n",
    "logits_norm"
   ]
  },
  {
   "cell_type": "code",
   "execution_count": 11,
   "metadata": {},
   "outputs": [
    {
     "data": {
      "text/plain": [
       "tensor([1., 1.])"
      ]
     },
     "execution_count": 11,
     "metadata": {},
     "output_type": "execute_result"
    }
   ],
   "source": [
    "targets = (labels > 0).float()\n",
    "targets"
   ]
  },
  {
   "cell_type": "code",
   "execution_count": 12,
   "metadata": {},
   "outputs": [
    {
     "data": {
      "text/plain": [
       "tensor([True, True])"
      ]
     },
     "execution_count": 12,
     "metadata": {},
     "output_type": "execute_result"
    }
   ],
   "source": [
    "labels > 0"
   ]
  },
  {
   "cell_type": "code",
   "execution_count": 14,
   "metadata": {},
   "outputs": [
    {
     "data": {
      "text/plain": [
       "tensor([[0.8187, 0.9048, 1.0000],\n",
       "        [0.8187, 0.9048, 1.0000]])"
      ]
     },
     "execution_count": 14,
     "metadata": {},
     "output_type": "execute_result"
    }
   ],
   "source": [
    "torch.exp(logits_norm) # 0 < x < 1"
   ]
  },
  {
   "cell_type": "code",
   "execution_count": 19,
   "metadata": {},
   "outputs": [
    {
     "data": {
      "text/plain": [
       "tensor([[1.8187, 1.9048, 2.0000],\n",
       "        [1.8187, 1.9048, 2.0000]])"
      ]
     },
     "execution_count": 19,
     "metadata": {},
     "output_type": "execute_result"
    }
   ],
   "source": [
    "1 + torch.exp(logits_norm) # 1 < x+1 < 2"
   ]
  },
  {
   "cell_type": "code",
   "execution_count": 21,
   "metadata": {},
   "outputs": [
    {
     "data": {
      "text/plain": [
       "tensor([[0.5981, 0.6444, 0.6931],\n",
       "        [0.5981, 0.6444, 0.6931]])"
      ]
     },
     "execution_count": 21,
     "metadata": {},
     "output_type": "execute_result"
    }
   ],
   "source": [
    "torch.log(1 + torch.exp(logits_norm)) # 밑은 e # 0 < y < 1"
   ]
  },
  {
   "cell_type": "code",
   "execution_count": 26,
   "metadata": {},
   "outputs": [
    {
     "data": {
      "text/plain": [
       "(tensor(1.9857),\n",
       " tensor([[0, 1, 0],\n",
       "         [0, 0, 1]]))"
      ]
     },
     "execution_count": 26,
     "metadata": {},
     "output_type": "execute_result"
    }
   ],
   "source": [
    "logits = torch.tensor([[0.1, 0.2, 0.3], [0.4, 0.5, 0.6]])\n",
    "labels = torch.tensor([1, 2])\n",
    "labels_onehot = torch.nn.functional.one_hot(labels, num_classes=3)\n",
    "loss = clip_loss(logits, labels_onehot)\n",
    "loss, labels_onehot"
   ]
  },
  {
   "cell_type": "code",
   "execution_count": 29,
   "metadata": {},
   "outputs": [
    {
     "data": {
      "text/plain": [
       "tensor([[0., 1., 0.],\n",
       "        [0., 0., 1.]])"
      ]
     },
     "execution_count": 29,
     "metadata": {},
     "output_type": "execute_result"
    }
   ],
   "source": [
    "targets = (labels_onehot > 0).float()\n",
    "targets"
   ]
  },
  {
   "cell_type": "code",
   "execution_count": 30,
   "metadata": {},
   "outputs": [
    {
     "data": {
      "text/plain": [
       "tensor([[0.0000, 0.1000, -0.0000],\n",
       "        [0.0000, 0.0000, -0.0000]])"
      ]
     },
     "execution_count": 30,
     "metadata": {},
     "output_type": "execute_result"
    }
   ],
   "source": [
    "-logits_norm * targets"
   ]
  },
  {
   "cell_type": "code",
   "execution_count": 31,
   "metadata": {},
   "outputs": [
    {
     "ename": "IndexError",
     "evalue": "Dimension out of range (expected to be in range of [-2, 1], but got 2)",
     "output_type": "error",
     "traceback": [
      "\u001b[0;31m---------------------------------------------------------------------------\u001b[0m",
      "\u001b[0;31mIndexError\u001b[0m                                Traceback (most recent call last)",
      "\u001b[1;32m/home/clay/userdata/title_generation/notebooks/cllip_loss.ipynb Cell 12\u001b[0m in \u001b[0;36m<module>\u001b[0;34m\u001b[0m\n\u001b[1;32m     <a href='vscode-notebook-cell://ssh-remote%2B163.239.104.244/home/clay/userdata/title_generation/notebooks/cllip_loss.ipynb#X15sdnNjb2RlLXJlbW90ZQ%3D%3D?line=17'>18</a>\u001b[0m emb1 \u001b[39m=\u001b[39m torch\u001b[39m.\u001b[39mrandn(\u001b[39m512\u001b[39m, \u001b[39m256\u001b[39m)\n\u001b[1;32m     <a href='vscode-notebook-cell://ssh-remote%2B163.239.104.244/home/clay/userdata/title_generation/notebooks/cllip_loss.ipynb#X15sdnNjb2RlLXJlbW90ZQ%3D%3D?line=18'>19</a>\u001b[0m emb2 \u001b[39m=\u001b[39m torch\u001b[39m.\u001b[39mrandn(\u001b[39m512\u001b[39m, \u001b[39m256\u001b[39m)\n\u001b[0;32m---> <a href='vscode-notebook-cell://ssh-remote%2B163.239.104.244/home/clay/userdata/title_generation/notebooks/cllip_loss.ipynb#X15sdnNjb2RlLXJlbW90ZQ%3D%3D?line=19'>20</a>\u001b[0m loss \u001b[39m=\u001b[39m cpc_loss(emb1, emb2)\n\u001b[1;32m     <a href='vscode-notebook-cell://ssh-remote%2B163.239.104.244/home/clay/userdata/title_generation/notebooks/cllip_loss.ipynb#X15sdnNjb2RlLXJlbW90ZQ%3D%3D?line=20'>21</a>\u001b[0m \u001b[39mprint\u001b[39m(loss)\n",
      "\u001b[1;32m/home/clay/userdata/title_generation/notebooks/cllip_loss.ipynb Cell 12\u001b[0m in \u001b[0;36mcpc_loss\u001b[0;34m(emb1, emb2)\u001b[0m\n\u001b[1;32m      <a href='vscode-notebook-cell://ssh-remote%2B163.239.104.244/home/clay/userdata/title_generation/notebooks/cllip_loss.ipynb#X15sdnNjb2RlLXJlbW90ZQ%3D%3D?line=2'>3</a>\u001b[0m \u001b[39mdef\u001b[39;00m \u001b[39mcpc_loss\u001b[39m(emb1, emb2):\n\u001b[0;32m----> <a href='vscode-notebook-cell://ssh-remote%2B163.239.104.244/home/clay/userdata/title_generation/notebooks/cllip_loss.ipynb#X15sdnNjb2RlLXJlbW90ZQ%3D%3D?line=3'>4</a>\u001b[0m     emb1 \u001b[39m=\u001b[39m emb1\u001b[39m.\u001b[39mview(\u001b[39m-\u001b[39m\u001b[39m1\u001b[39m, emb1\u001b[39m.\u001b[39msize(\u001b[39m1\u001b[39m), emb1\u001b[39m.\u001b[39;49msize(\u001b[39m2\u001b[39;49m))\n\u001b[1;32m      <a href='vscode-notebook-cell://ssh-remote%2B163.239.104.244/home/clay/userdata/title_generation/notebooks/cllip_loss.ipynb#X15sdnNjb2RlLXJlbW90ZQ%3D%3D?line=4'>5</a>\u001b[0m     emb2 \u001b[39m=\u001b[39m emb2\u001b[39m.\u001b[39mview(\u001b[39m-\u001b[39m\u001b[39m1\u001b[39m, emb2\u001b[39m.\u001b[39msize(\u001b[39m1\u001b[39m), emb2\u001b[39m.\u001b[39msize(\u001b[39m2\u001b[39m))\n\u001b[1;32m      <a href='vscode-notebook-cell://ssh-remote%2B163.239.104.244/home/clay/userdata/title_generation/notebooks/cllip_loss.ipynb#X15sdnNjb2RlLXJlbW90ZQ%3D%3D?line=5'>6</a>\u001b[0m     emb \u001b[39m=\u001b[39m torch\u001b[39m.\u001b[39mcat([emb1, emb2], dim\u001b[39m=\u001b[39m\u001b[39m-\u001b[39m\u001b[39m1\u001b[39m)\n",
      "\u001b[0;31mIndexError\u001b[0m: Dimension out of range (expected to be in range of [-2, 1], but got 2)"
     ]
    }
   ],
   "source": [
    "import torch\n",
    "\n",
    "def cpc_loss(emb1, emb2):\n",
    "    emb1 = emb1.view(-1, emb1.size(1), emb1.size(2))\n",
    "    emb2 = emb2.view(-1, emb2.size(1), emb2.size(2))\n",
    "    emb = torch.cat([emb1, emb2], dim=-1)\n",
    "    emb = emb.permute(1, 0, 2)\n",
    "    emb = emb.unsqueeze(1)\n",
    "    emb_shift = torch.cat([emb[1:], emb[:1]], dim=1)\n",
    "    logits = torch.matmul(emb, emb_shift.transpose(2, 1)) / (emb.size(-1) ** 0.5)\n",
    "    logits = logits.view(-1, emb1.size(1))\n",
    "    labels = torch.arange(emb1.size(1), device=emb1.device).expand(emb1.size(1), emb1.size(1))\n",
    "    labels = labels == labels.transpose(0, 1)\n",
    "    labels = labels.view(-1)\n",
    "    loss = torch.nn.functional.binary_cross_entropy_with_logits(logits, labels.float())\n",
    "    return loss.mean()\n",
    "\n",
    "emb1 = torch.randn(512, 256)\n",
    "emb2 = torch.randn(512, 256)\n",
    "loss = cpc_loss(emb1, emb2)\n",
    "print(loss)"
   ]
  },
  {
   "cell_type": "code",
   "execution_count": 37,
   "metadata": {},
   "outputs": [
    {
     "data": {
      "text/plain": [
       "(2, 1, 3)"
      ]
     },
     "execution_count": 37,
     "metadata": {},
     "output_type": "execute_result"
    }
   ],
   "source": [
    "import numpy as np\n",
    "\n",
    "mat1 = np.array([[1,1,1],[2,2,2]])\n",
    "mat2 = np.array([[3,3,3],[4,4,4]])\n",
    "\n",
    "# calculate Euclidean distance between each pair of rows\n",
    "distances = np.linalg.norm(mat1[:, np.newaxis] - mat2, axis=-1)\n",
    "mat1[:, np.newaxis].shape"
   ]
  },
  {
   "cell_type": "code",
   "execution_count": 38,
   "metadata": {},
   "outputs": [
    {
     "data": {
      "text/plain": [
       "array([[[-2, -2, -2],\n",
       "        [-3, -3, -3]],\n",
       "\n",
       "       [[-1, -1, -1],\n",
       "        [-2, -2, -2]]])"
      ]
     },
     "execution_count": 38,
     "metadata": {},
     "output_type": "execute_result"
    }
   ],
   "source": [
    "mat1[:, np.newaxis] - mat2"
   ]
  },
  {
   "cell_type": "code",
   "execution_count": 1,
   "metadata": {},
   "outputs": [],
   "source": [
    "import torch\n",
    "from torch.linalg import norm\n",
    "from torch.nn import CosineEmbeddingLoss\n",
    "import torch.nn.functional as F\n",
    "\n",
    "emb1 = torch.rand(32, 32)\n",
    "emb2 = torch.rand(32, 32)\n",
    " \n",
    "emb1_norm = F.normalize(emb1, dim=-1)\n",
    "emb2_norm = F.normalize(emb2, dim=-1)\n",
    "cos_sim_value_1 = torch.matmul(emb1_norm, emb2_norm.T)\n",
    "\n",
    "dot_product_value_2 = torch.matmul(emb1, emb2.T)\n",
    "emb1_norm = norm(emb1, dim=-1)\n",
    "emb2_norm = norm(emb2, dim=-1)\n",
    "cos_sim_value_2 = dot_product_value_2 / emb1_norm.unsqueeze(1) / emb2_norm.unsqueeze(0)"
   ]
  },
  {
   "cell_type": "code",
   "execution_count": 4,
   "metadata": {},
   "outputs": [
    {
     "data": {
      "text/plain": [
       "tensor([[False, False, False,  ..., False, False,  True],\n",
       "        [ True,  True,  True,  ..., False, False,  True],\n",
       "        [False,  True, False,  ..., False, False, False],\n",
       "        ...,\n",
       "        [ True,  True,  True,  ..., False, False, False],\n",
       "        [ True, False,  True,  ..., False,  True, False],\n",
       "        [False, False, False,  ..., False,  True, False]])"
      ]
     },
     "execution_count": 4,
     "metadata": {},
     "output_type": "execute_result"
    }
   ],
   "source": [
    "cos_sim_value_1 == cos_sim_value_2"
   ]
  },
  {
   "cell_type": "code",
   "execution_count": 2,
   "metadata": {},
   "outputs": [
    {
     "data": {
      "text/plain": [
       "tensor([[0.8399, 0.7862, 0.7911,  ..., 0.7901, 0.7094, 0.8134],\n",
       "        [0.8672, 0.7421, 0.7859,  ..., 0.7981, 0.7705, 0.8052],\n",
       "        [0.8195, 0.6941, 0.7518,  ..., 0.7732, 0.7164, 0.7913],\n",
       "        ...,\n",
       "        [0.7785, 0.7984, 0.7611,  ..., 0.7822, 0.8325, 0.8305],\n",
       "        [0.7379, 0.7839, 0.7671,  ..., 0.7255, 0.7672, 0.8097],\n",
       "        [0.8202, 0.7967, 0.7417,  ..., 0.7708, 0.7560, 0.7876]])"
      ]
     },
     "execution_count": 2,
     "metadata": {},
     "output_type": "execute_result"
    }
   ],
   "source": [
    "cos_sim_value_1"
   ]
  },
  {
   "cell_type": "code",
   "execution_count": 3,
   "metadata": {},
   "outputs": [
    {
     "data": {
      "text/plain": [
       "tensor([[0.8399, 0.7862, 0.7911,  ..., 0.7901, 0.7094, 0.8134],\n",
       "        [0.8672, 0.7421, 0.7859,  ..., 0.7981, 0.7705, 0.8052],\n",
       "        [0.8195, 0.6941, 0.7518,  ..., 0.7732, 0.7164, 0.7913],\n",
       "        ...,\n",
       "        [0.7785, 0.7984, 0.7611,  ..., 0.7822, 0.8325, 0.8305],\n",
       "        [0.7379, 0.7839, 0.7671,  ..., 0.7255, 0.7672, 0.8097],\n",
       "        [0.8202, 0.7967, 0.7417,  ..., 0.7708, 0.7560, 0.7876]])"
      ]
     },
     "execution_count": 3,
     "metadata": {},
     "output_type": "execute_result"
    }
   ],
   "source": [
    "cos_sim_value_2"
   ]
  },
  {
   "cell_type": "code",
   "execution_count": 5,
   "metadata": {},
   "outputs": [
    {
     "data": {
      "text/plain": [
       "tensor([False, False, False, False, False, False,  True, False, False,  True,\n",
       "         True, False,  True, False,  True, False, False,  True, False, False,\n",
       "        False, False, False, False, False, False, False, False,  True, False,\n",
       "        False,  True])"
      ]
     },
     "execution_count": 5,
     "metadata": {},
     "output_type": "execute_result"
    }
   ],
   "source": [
    "cos_sim_value_1[0] == cos_sim_value_2[0]"
   ]
  },
  {
   "cell_type": "code",
   "execution_count": 10,
   "metadata": {},
   "outputs": [
    {
     "name": "stdout",
     "output_type": "stream",
     "text": [
      "tensor(0.8399) tensor(0.8399)\n"
     ]
    }
   ],
   "source": [
    "print(cos_sim_value_1[0][0], cos_sim_value_2[0][0])"
   ]
  },
  {
   "cell_type": "code",
   "execution_count": 15,
   "metadata": {},
   "outputs": [
    {
     "data": {
      "text/plain": [
       "True"
      ]
     },
     "execution_count": 15,
     "metadata": {},
     "output_type": "execute_result"
    }
   ],
   "source": [
    "torch.allclose(cos_sim_value_1[0], cos_sim_value_2[0], atol=1e-5)"
   ]
  },
  {
   "cell_type": "code",
   "execution_count": 16,
   "metadata": {},
   "outputs": [
    {
     "ename": "ValueError",
     "evalue": "only one element tensors can be converted to Python scalars",
     "output_type": "error",
     "traceback": [
      "\u001b[0;31m---------------------------------------------------------------------------\u001b[0m",
      "\u001b[0;31mValueError\u001b[0m                                Traceback (most recent call last)",
      "\u001b[1;32m/home/clay/userdata/title_generation/notebooks/cllip_loss.ipynb Cell 22\u001b[0m in \u001b[0;36m<module>\u001b[0;34m\u001b[0m\n\u001b[0;32m----> <a href='vscode-notebook-cell://ssh-remote%2B163.239.104.244/home/clay/userdata/title_generation/notebooks/cllip_loss.ipynb#X30sdnNjb2RlLXJlbW90ZQ%3D%3D?line=0'>1</a>\u001b[0m cos_sim_value_1[\u001b[39m0\u001b[39;49m]\u001b[39m.\u001b[39;49mitem() \u001b[39m==\u001b[39m cos_sim_value_2[\u001b[39m0\u001b[39m]\u001b[39m.\u001b[39mitem()\n",
      "\u001b[0;31mValueError\u001b[0m: only one element tensors can be converted to Python scalars"
     ]
    }
   ],
   "source": [
    "cos_sim_value_1[0].item() == cos_sim_value_2[0].item()\n"
   ]
  },
  {
   "cell_type": "code",
   "execution_count": 17,
   "metadata": {},
   "outputs": [
    {
     "data": {
      "text/plain": [
       "(tensor(0.8399), tensor(0.8399))"
      ]
     },
     "execution_count": 17,
     "metadata": {},
     "output_type": "execute_result"
    }
   ],
   "source": [
    "cos_sim_value_1[0][0], cos_sim_value_2[0][0]"
   ]
  },
  {
   "cell_type": "code",
   "execution_count": null,
   "metadata": {},
   "outputs": [],
   "source": []
  }
 ],
 "metadata": {
  "kernelspec": {
   "display_name": "Python 3.8.10 64-bit",
   "language": "python",
   "name": "python3"
  },
  "language_info": {
   "codemirror_mode": {
    "name": "ipython",
    "version": 3
   },
   "file_extension": ".py",
   "mimetype": "text/x-python",
   "name": "python",
   "nbconvert_exporter": "python",
   "pygments_lexer": "ipython3",
   "version": "3.8.10"
  },
  "orig_nbformat": 4,
  "vscode": {
   "interpreter": {
    "hash": "31f2aee4e71d21fbe5cf8b01ff0e069b9275f58929596ceb00d14d90e3e16cd6"
   }
  }
 },
 "nbformat": 4,
 "nbformat_minor": 2
}
