{
 "cells": [
  {
   "cell_type": "code",
   "execution_count": 1,
   "metadata": {},
   "outputs": [
    {
     "name": "stdout",
     "output_type": "stream",
     "text": [
      "/home/clay/userdata/title_generation\n"
     ]
    }
   ],
   "source": [
    "%cd ..\n",
    "%load_ext autoreload\n",
    "%autoreload 2"
   ]
  },
  {
   "cell_type": "code",
   "execution_count": 8,
   "metadata": {},
   "outputs": [],
   "source": [
    "from pathlib import Path\n",
    "from pyabc import pyabc\n",
    "\n",
    "from data_utils import prepare_abc\n",
    "from emb_model import ABC_measnote_emb_Model, TTLembModel\n",
    "\n",
    "import shutil\n",
    "import torch"
   ]
  },
  {
   "cell_type": "code",
   "execution_count": 4,
   "metadata": {},
   "outputs": [],
   "source": [
    "session_dir = Path('abc_dataset/AIMG2022/')\n",
    "session_abcs = list(session_dir.rglob('*.abc'))\n",
    "session_abcs.sort(key=lambda x: int(x.stem))"
   ]
  },
  {
   "cell_type": "code",
   "execution_count": 9,
   "metadata": {},
   "outputs": [
    {
     "ename": "RuntimeError",
     "evalue": "Error(s) in loading state_dict for ABC_measnote_emb_Model:\n\tUnexpected key(s) in state_dict: \"emb.layers.0.weight\", \"emb.layers.1.weight\", \"emb.layers.2.weight\", \"emb.layers.3.weight\", \"emb.layers.4.weight\", \"emb.layers.5.weight\", \"emb.layers.6.weight\", \"emb.layers.7.weight\", \"emb.layers.8.weight\", \"emb.layers.9.weight\", \"emb.layers.10.weight\", \"emb.layers.11.weight\", \"emb.layers.12.weight\", \"emb.layers.13.weight\", \"emb.layers.14.weight\", \"emb.layers.15.weight\", \"emb.layers.16.weight\", \"emb.layers.17.weight\", \"emb.layers.18.weight\", \"emb.layers.19.weight\", \"rnn.weight_ih_l0\", \"rnn.weight_hh_l0\", \"rnn.bias_ih_l0\", \"rnn.bias_hh_l0\", \"rnn.weight_ih_l1\", \"rnn.weight_hh_l1\", \"rnn.bias_ih_l1\", \"rnn.bias_hh_l1\", \"rnn.weight_ih_l2\", \"rnn.weight_hh_l2\", \"rnn.bias_ih_l2\", \"rnn.bias_hh_l2\", \"measure_rnn.rnn.weight_ih_l0\", \"measure_rnn.rnn.weight_hh_l0\", \"measure_rnn.rnn.bias_ih_l0\", \"measure_rnn.rnn.bias_hh_l0\", \"measure_rnn.rnn.weight_ih_l1\", \"measure_rnn.rnn.weight_hh_l1\", \"measure_rnn.rnn.bias_ih_l1\", \"measure_rnn.rnn.bias_hh_l1\", \"measure_rnn.rnn.weight_ih_l2\", \"measure_rnn.rnn.weight_hh_l2\", \"measure_rnn.rnn.bias_ih_l2\", \"measure_rnn.rnn.bias_hh_l2\", \"measure_rnn.attention.context_vector\", \"measure_rnn.attention.attention_net.weight\", \"measure_rnn.attention.attention_net.bias\", \"final_rnn.weight_ih_l0\", \"final_rnn.weight_hh_l0\", \"final_rnn.bias_ih_l0\", \"final_rnn.bias_hh_l0\", \"final_rnn.weight_ih_l1\", \"final_rnn.weight_hh_l1\", \"final_rnn.bias_ih_l1\", \"final_rnn.bias_hh_l1\", \"final_rnn.weight_ih_l2\", \"final_rnn.weight_hh_l2\", \"final_rnn.bias_ih_l2\", \"final_rnn.bias_hh_l2\". ",
     "output_type": "error",
     "traceback": [
      "\u001b[0;31m---------------------------------------------------------------------------\u001b[0m",
      "\u001b[0;31mRuntimeError\u001b[0m                              Traceback (most recent call last)",
      "\u001b[1;32m/home/clay/userdata/title_generation/notebooks/title_matching.ipynb Cell 4\u001b[0m in \u001b[0;36m<module>\u001b[0;34m\u001b[0m\n\u001b[1;32m      <a href='vscode-notebook-cell://ssh-remote%2B163.239.104.244/home/clay/userdata/title_generation/notebooks/title_matching.ipynb#W4sdnNjb2RlLXJlbW90ZQ%3D%3D?line=1'>2</a>\u001b[0m ttl_check \u001b[39m=\u001b[39m torch\u001b[39m.\u001b[39mload(\u001b[39m'\u001b[39m\u001b[39mttlemb_last.pt\u001b[39m\u001b[39m'\u001b[39m)\n\u001b[1;32m      <a href='vscode-notebook-cell://ssh-remote%2B163.239.104.244/home/clay/userdata/title_generation/notebooks/title_matching.ipynb#W4sdnNjb2RlLXJlbW90ZQ%3D%3D?line=3'>4</a>\u001b[0m model_abc \u001b[39m=\u001b[39m ABC_measnote_emb_Model()\n\u001b[0;32m----> <a href='vscode-notebook-cell://ssh-remote%2B163.239.104.244/home/clay/userdata/title_generation/notebooks/title_matching.ipynb#W4sdnNjb2RlLXJlbW90ZQ%3D%3D?line=4'>5</a>\u001b[0m model_abc\u001b[39m.\u001b[39;49mload_state_dict(measnote_check[\u001b[39m'\u001b[39;49m\u001b[39mmodel\u001b[39;49m\u001b[39m'\u001b[39;49m])\n\u001b[1;32m      <a href='vscode-notebook-cell://ssh-remote%2B163.239.104.244/home/clay/userdata/title_generation/notebooks/title_matching.ipynb#W4sdnNjb2RlLXJlbW90ZQ%3D%3D?line=5'>6</a>\u001b[0m model_ttl \u001b[39m=\u001b[39m TTLembModel()\n\u001b[1;32m      <a href='vscode-notebook-cell://ssh-remote%2B163.239.104.244/home/clay/userdata/title_generation/notebooks/title_matching.ipynb#W4sdnNjb2RlLXJlbW90ZQ%3D%3D?line=6'>7</a>\u001b[0m model_ttl\u001b[39m.\u001b[39mload_state_dict(ttl_check[\u001b[39m'\u001b[39m\u001b[39mmodel\u001b[39m\u001b[39m'\u001b[39m])\n",
      "File \u001b[0;32m~/.local/lib/python3.8/site-packages/torch/nn/modules/module.py:1604\u001b[0m, in \u001b[0;36mModule.load_state_dict\u001b[0;34m(self, state_dict, strict)\u001b[0m\n\u001b[1;32m   1599\u001b[0m         error_msgs\u001b[39m.\u001b[39minsert(\n\u001b[1;32m   1600\u001b[0m             \u001b[39m0\u001b[39m, \u001b[39m'\u001b[39m\u001b[39mMissing key(s) in state_dict: \u001b[39m\u001b[39m{}\u001b[39;00m\u001b[39m. \u001b[39m\u001b[39m'\u001b[39m\u001b[39m.\u001b[39mformat(\n\u001b[1;32m   1601\u001b[0m                 \u001b[39m'\u001b[39m\u001b[39m, \u001b[39m\u001b[39m'\u001b[39m\u001b[39m.\u001b[39mjoin(\u001b[39m'\u001b[39m\u001b[39m\"\u001b[39m\u001b[39m{}\u001b[39;00m\u001b[39m\"\u001b[39m\u001b[39m'\u001b[39m\u001b[39m.\u001b[39mformat(k) \u001b[39mfor\u001b[39;00m k \u001b[39min\u001b[39;00m missing_keys)))\n\u001b[1;32m   1603\u001b[0m \u001b[39mif\u001b[39;00m \u001b[39mlen\u001b[39m(error_msgs) \u001b[39m>\u001b[39m \u001b[39m0\u001b[39m:\n\u001b[0;32m-> 1604\u001b[0m     \u001b[39mraise\u001b[39;00m \u001b[39mRuntimeError\u001b[39;00m(\u001b[39m'\u001b[39m\u001b[39mError(s) in loading state_dict for \u001b[39m\u001b[39m{}\u001b[39;00m\u001b[39m:\u001b[39m\u001b[39m\\n\u001b[39;00m\u001b[39m\\t\u001b[39;00m\u001b[39m{}\u001b[39;00m\u001b[39m'\u001b[39m\u001b[39m.\u001b[39mformat(\n\u001b[1;32m   1605\u001b[0m                        \u001b[39mself\u001b[39m\u001b[39m.\u001b[39m\u001b[39m__class__\u001b[39m\u001b[39m.\u001b[39m\u001b[39m__name__\u001b[39m, \u001b[39m\"\u001b[39m\u001b[39m\\n\u001b[39;00m\u001b[39m\\t\u001b[39;00m\u001b[39m\"\u001b[39m\u001b[39m.\u001b[39mjoin(error_msgs)))\n\u001b[1;32m   1606\u001b[0m \u001b[39mreturn\u001b[39;00m _IncompatibleKeys(missing_keys, unexpected_keys)\n",
      "\u001b[0;31mRuntimeError\u001b[0m: Error(s) in loading state_dict for ABC_measnote_emb_Model:\n\tUnexpected key(s) in state_dict: \"emb.layers.0.weight\", \"emb.layers.1.weight\", \"emb.layers.2.weight\", \"emb.layers.3.weight\", \"emb.layers.4.weight\", \"emb.layers.5.weight\", \"emb.layers.6.weight\", \"emb.layers.7.weight\", \"emb.layers.8.weight\", \"emb.layers.9.weight\", \"emb.layers.10.weight\", \"emb.layers.11.weight\", \"emb.layers.12.weight\", \"emb.layers.13.weight\", \"emb.layers.14.weight\", \"emb.layers.15.weight\", \"emb.layers.16.weight\", \"emb.layers.17.weight\", \"emb.layers.18.weight\", \"emb.layers.19.weight\", \"rnn.weight_ih_l0\", \"rnn.weight_hh_l0\", \"rnn.bias_ih_l0\", \"rnn.bias_hh_l0\", \"rnn.weight_ih_l1\", \"rnn.weight_hh_l1\", \"rnn.bias_ih_l1\", \"rnn.bias_hh_l1\", \"rnn.weight_ih_l2\", \"rnn.weight_hh_l2\", \"rnn.bias_ih_l2\", \"rnn.bias_hh_l2\", \"measure_rnn.rnn.weight_ih_l0\", \"measure_rnn.rnn.weight_hh_l0\", \"measure_rnn.rnn.bias_ih_l0\", \"measure_rnn.rnn.bias_hh_l0\", \"measure_rnn.rnn.weight_ih_l1\", \"measure_rnn.rnn.weight_hh_l1\", \"measure_rnn.rnn.bias_ih_l1\", \"measure_rnn.rnn.bias_hh_l1\", \"measure_rnn.rnn.weight_ih_l2\", \"measure_rnn.rnn.weight_hh_l2\", \"measure_rnn.rnn.bias_ih_l2\", \"measure_rnn.rnn.bias_hh_l2\", \"measure_rnn.attention.context_vector\", \"measure_rnn.attention.attention_net.weight\", \"measure_rnn.attention.attention_net.bias\", \"final_rnn.weight_ih_l0\", \"final_rnn.weight_hh_l0\", \"final_rnn.bias_ih_l0\", \"final_rnn.bias_hh_l0\", \"final_rnn.weight_ih_l1\", \"final_rnn.weight_hh_l1\", \"final_rnn.bias_ih_l1\", \"final_rnn.bias_hh_l1\", \"final_rnn.weight_ih_l2\", \"final_rnn.weight_hh_l2\", \"final_rnn.bias_ih_l2\", \"final_rnn.bias_hh_l2\". "
     ]
    }
   ],
   "source": [
    "measnote_check = torch.load('measurenote_last.pt')\n",
    "ttl_check = torch.load('ttlemb_last.pt')\n",
    "\n",
    "model_abc = ABC_measnote_emb_Model()\n",
    "model_abc.load_state_dict(measnote_check['model'])\n",
    "model_ttl = TTLembModel()\n",
    "model_ttl.load_state_dict(ttl_check['model'])"
   ]
  },
  {
   "cell_type": "code",
   "execution_count": null,
   "metadata": {},
   "outputs": [],
   "source": [
    "with open ('abc_dataset/ttl_list.json', 'r') as f:\n",
    "  f.read"
   ]
  }
 ],
 "metadata": {
  "kernelspec": {
   "display_name": "Python 3",
   "language": "python",
   "name": "python3"
  },
  "language_info": {
   "codemirror_mode": {
    "name": "ipython",
    "version": 3
   },
   "file_extension": ".py",
   "mimetype": "text/x-python",
   "name": "python",
   "nbconvert_exporter": "python",
   "pygments_lexer": "ipython3",
   "version": "3.8.10"
  },
  "orig_nbformat": 4,
  "vscode": {
   "interpreter": {
    "hash": "916dbcbb3f70747c44a77c7bcd40155683ae19c65e1c03b4aa3499c5328201f1"
   }
  }
 },
 "nbformat": 4,
 "nbformat_minor": 2
}
